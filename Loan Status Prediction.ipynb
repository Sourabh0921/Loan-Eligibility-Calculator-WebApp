{
 "cells": [
  {
   "cell_type": "markdown",
   "id": "853ace72",
   "metadata": {},
   "source": [
    "# Loan status Prediction\n",
    "To predict where you are eligible for the loan or not with the help of your submitted information"
   ]
  },
  {
   "cell_type": "markdown",
   "id": "c3748a6b",
   "metadata": {},
   "source": [
    "# Problem Statement:\n",
    "Finance company deals in all kinds of home loans. They have a presence across all urban, semi-urban and rural areas. The customer first applies for a home loan and after that, the company validates the customer eligibility for the loan.\n",
    "\n",
    "The company wants to automate the loan eligibility process (real-time) based on customer detail provided while filling out online application forms. These details are Gender, Marital Status, Education, number of Dependents, Income, Loan Amount, Credit History, and others.\n",
    "\n",
    "To automate this process, they have provided a dataset to identify the customer segments that are eligible for loan amounts so that they can specifically target these customers.\n",
    "\n",
    "### What is Loan?:\n",
    "- **Loan**: The term loan refers to a type of credit vehicle in which a sum of money is lent to another party in exchange for future repayment of the value or principal amount. In many cases, the lender also adds interest and/or finance charges to the principal value which the borrower must repay in addition to the principal balance. Loans may be for a specific, one-time amount, or they may be available as an open-ended line of credit up to a specified limit. Loans come in many different forms including secured, unsecured, commercial, and personal loans."
   ]
  },
  {
   "cell_type": "markdown",
   "id": "8b5b2957",
   "metadata": {},
   "source": [
    "# About the Data:\n",
    "- Attributes:\n",
    "\n",
    "![columns_meaning.png](https://lh4.googleusercontent.com/Toh_V2T2hPde7_CwbNHbO4oiAk01LykBuVEd86fSQgqiLWu4CHGavONhvBHfXBMCW9Q8S32WmiI5bge5uIZ_70KWbhu_x8Vl-VCF4PC1BkyDn7v4m1q0hfRiF4NfL4U9mdpGSdoA)"
   ]
  },
  {
   "cell_type": "markdown",
   "id": "80c1f7dd",
   "metadata": {},
   "source": [
    "# Importing Libraries"
   ]
  },
  {
   "cell_type": "code",
   "execution_count": 2,
   "id": "dca7de6e",
   "metadata": {},
   "outputs": [],
   "source": [
    "import pandas as pd\n",
    "import numpy as np\n",
    "import matplotlib.pyplot as plt\n",
    "import seaborn as sns\n",
    "%matplotlib inline\n",
    "sns.set_style('darkgrid')\n",
    "sns.set()\n",
    "plt.style.use('ggplot')\n",
    "import warnings\n",
    "warnings.filterwarnings('ignore')"
   ]
  },
  {
   "cell_type": "markdown",
   "id": "407f6770",
   "metadata": {},
   "source": [
    "# Loading the data"
   ]
  },
  {
   "cell_type": "code",
   "execution_count": 3,
   "id": "51160fb6",
   "metadata": {},
   "outputs": [
    {
     "name": "stdout",
     "output_type": "stream",
     "text": [
      "Top 5 rows from the data: \n"
     ]
    },
    {
     "data": {
      "text/html": [
       "<div>\n",
       "<style scoped>\n",
       "    .dataframe tbody tr th:only-of-type {\n",
       "        vertical-align: middle;\n",
       "    }\n",
       "\n",
       "    .dataframe tbody tr th {\n",
       "        vertical-align: top;\n",
       "    }\n",
       "\n",
       "    .dataframe thead th {\n",
       "        text-align: right;\n",
       "    }\n",
       "</style>\n",
       "<table border=\"1\" class=\"dataframe\">\n",
       "  <thead>\n",
       "    <tr style=\"text-align: right;\">\n",
       "      <th></th>\n",
       "      <th>Loan_ID</th>\n",
       "      <th>Gender</th>\n",
       "      <th>Married</th>\n",
       "      <th>Dependents</th>\n",
       "      <th>Education</th>\n",
       "      <th>Self_Employed</th>\n",
       "      <th>ApplicantIncome</th>\n",
       "      <th>CoapplicantIncome</th>\n",
       "      <th>LoanAmount</th>\n",
       "      <th>Loan_Amount_Term</th>\n",
       "      <th>Credit_History</th>\n",
       "      <th>Property_Area</th>\n",
       "      <th>Loan_Status</th>\n",
       "    </tr>\n",
       "  </thead>\n",
       "  <tbody>\n",
       "    <tr>\n",
       "      <th>0</th>\n",
       "      <td>LP001002</td>\n",
       "      <td>Male</td>\n",
       "      <td>No</td>\n",
       "      <td>0</td>\n",
       "      <td>Graduate</td>\n",
       "      <td>No</td>\n",
       "      <td>5849</td>\n",
       "      <td>0.0</td>\n",
       "      <td>NaN</td>\n",
       "      <td>360.0</td>\n",
       "      <td>1.0</td>\n",
       "      <td>Urban</td>\n",
       "      <td>Y</td>\n",
       "    </tr>\n",
       "    <tr>\n",
       "      <th>1</th>\n",
       "      <td>LP001003</td>\n",
       "      <td>Male</td>\n",
       "      <td>Yes</td>\n",
       "      <td>1</td>\n",
       "      <td>Graduate</td>\n",
       "      <td>No</td>\n",
       "      <td>4583</td>\n",
       "      <td>1508.0</td>\n",
       "      <td>128.0</td>\n",
       "      <td>360.0</td>\n",
       "      <td>1.0</td>\n",
       "      <td>Rural</td>\n",
       "      <td>N</td>\n",
       "    </tr>\n",
       "    <tr>\n",
       "      <th>2</th>\n",
       "      <td>LP001005</td>\n",
       "      <td>Male</td>\n",
       "      <td>Yes</td>\n",
       "      <td>0</td>\n",
       "      <td>Graduate</td>\n",
       "      <td>Yes</td>\n",
       "      <td>3000</td>\n",
       "      <td>0.0</td>\n",
       "      <td>66.0</td>\n",
       "      <td>360.0</td>\n",
       "      <td>1.0</td>\n",
       "      <td>Urban</td>\n",
       "      <td>Y</td>\n",
       "    </tr>\n",
       "    <tr>\n",
       "      <th>3</th>\n",
       "      <td>LP001006</td>\n",
       "      <td>Male</td>\n",
       "      <td>Yes</td>\n",
       "      <td>0</td>\n",
       "      <td>Not Graduate</td>\n",
       "      <td>No</td>\n",
       "      <td>2583</td>\n",
       "      <td>2358.0</td>\n",
       "      <td>120.0</td>\n",
       "      <td>360.0</td>\n",
       "      <td>1.0</td>\n",
       "      <td>Urban</td>\n",
       "      <td>Y</td>\n",
       "    </tr>\n",
       "    <tr>\n",
       "      <th>4</th>\n",
       "      <td>LP001008</td>\n",
       "      <td>Male</td>\n",
       "      <td>No</td>\n",
       "      <td>0</td>\n",
       "      <td>Graduate</td>\n",
       "      <td>No</td>\n",
       "      <td>6000</td>\n",
       "      <td>0.0</td>\n",
       "      <td>141.0</td>\n",
       "      <td>360.0</td>\n",
       "      <td>1.0</td>\n",
       "      <td>Urban</td>\n",
       "      <td>Y</td>\n",
       "    </tr>\n",
       "  </tbody>\n",
       "</table>\n",
       "</div>"
      ],
      "text/plain": [
       "    Loan_ID Gender Married Dependents     Education Self_Employed  \\\n",
       "0  LP001002   Male      No          0      Graduate            No   \n",
       "1  LP001003   Male     Yes          1      Graduate            No   \n",
       "2  LP001005   Male     Yes          0      Graduate           Yes   \n",
       "3  LP001006   Male     Yes          0  Not Graduate            No   \n",
       "4  LP001008   Male      No          0      Graduate            No   \n",
       "\n",
       "   ApplicantIncome  CoapplicantIncome  LoanAmount  Loan_Amount_Term  \\\n",
       "0             5849                0.0         NaN             360.0   \n",
       "1             4583             1508.0       128.0             360.0   \n",
       "2             3000                0.0        66.0             360.0   \n",
       "3             2583             2358.0       120.0             360.0   \n",
       "4             6000                0.0       141.0             360.0   \n",
       "\n",
       "   Credit_History Property_Area Loan_Status  \n",
       "0             1.0         Urban           Y  \n",
       "1             1.0         Rural           N  \n",
       "2             1.0         Urban           Y  \n",
       "3             1.0         Urban           Y  \n",
       "4             1.0         Urban           Y  "
      ]
     },
     "execution_count": 3,
     "metadata": {},
     "output_type": "execute_result"
    }
   ],
   "source": [
    "data = pd.read_csv('train.csv')\n",
    "print(\"Top 5 rows from the data: \")\n",
    "data.head()"
   ]
  },
  {
   "cell_type": "markdown",
   "id": "4459b69c",
   "metadata": {},
   "source": [
    "\n",
    "-What are the features of dataset"
   ]
  },
  {
   "cell_type": "code",
   "execution_count": 4,
   "id": "6aeafc80",
   "metadata": {},
   "outputs": [
    {
     "name": "stdout",
     "output_type": "stream",
     "text": [
      "SHAPE OF THE DATA: \n",
      "(614, 13)\n",
      "------------------------------------------------------------------------------------------\n",
      "INFORMATION OF THE DATA: \n",
      "<class 'pandas.core.frame.DataFrame'>\n",
      "RangeIndex: 614 entries, 0 to 613\n",
      "Data columns (total 13 columns):\n",
      " #   Column             Non-Null Count  Dtype  \n",
      "---  ------             --------------  -----  \n",
      " 0   Loan_ID            614 non-null    object \n",
      " 1   Gender             601 non-null    object \n",
      " 2   Married            611 non-null    object \n",
      " 3   Dependents         599 non-null    object \n",
      " 4   Education          614 non-null    object \n",
      " 5   Self_Employed      582 non-null    object \n",
      " 6   ApplicantIncome    614 non-null    int64  \n",
      " 7   CoapplicantIncome  614 non-null    float64\n",
      " 8   LoanAmount         592 non-null    float64\n",
      " 9   Loan_Amount_Term   600 non-null    float64\n",
      " 10  Credit_History     564 non-null    float64\n",
      " 11  Property_Area      614 non-null    object \n",
      " 12  Loan_Status        614 non-null    object \n",
      "dtypes: float64(4), int64(1), object(8)\n",
      "memory usage: 62.5+ KB\n",
      "None\n",
      "------------------------------------------------------------------------------------------\n",
      "NUMBER OF NULL VALUES PRESENT IN THE DATA: \n",
      "Loan_ID               0\n",
      "Gender               13\n",
      "Married               3\n",
      "Dependents           15\n",
      "Education             0\n",
      "Self_Employed        32\n",
      "ApplicantIncome       0\n",
      "CoapplicantIncome     0\n",
      "LoanAmount           22\n",
      "Loan_Amount_Term     14\n",
      "Credit_History       50\n",
      "Property_Area         0\n",
      "Loan_Status           0\n",
      "dtype: int64\n",
      "------------------------------------------------------------------------------------------\n",
      "COLUMN NAMES OF THE DATA: \n",
      "Index(['Loan_ID', 'Gender', 'Married', 'Dependents', 'Education',\n",
      "       'Self_Employed', 'ApplicantIncome', 'CoapplicantIncome', 'LoanAmount',\n",
      "       'Loan_Amount_Term', 'Credit_History', 'Property_Area', 'Loan_Status'],\n",
      "      dtype='object')\n",
      "------------------------------------------------------------------------------------------\n"
     ]
    }
   ],
   "source": [
    "# creating a function which will give us features from the dataset\n",
    "def data_feature(dataset):\n",
    "    print(\"SHAPE OF THE DATA: \")\n",
    "    print(dataset.shape)\n",
    "    print(\"-\"*90)\n",
    "    print(\"INFORMATION OF THE DATA: \")\n",
    "    print(dataset.info())\n",
    "    print(\"-\"*90)\n",
    "    print(\"NUMBER OF NULL VALUES PRESENT IN THE DATA: \")\n",
    "    print(dataset.isnull().sum())\n",
    "    print(\"-\"*90)\n",
    "    print(\"COLUMN NAMES OF THE DATA: \")\n",
    "    print(dataset.columns)\n",
    "    print(\"-\"*90)\n",
    "data_feature(data)"
   ]
  },
  {
   "cell_type": "markdown",
   "id": "75a0398c",
   "metadata": {},
   "source": [
    "**Observations**:\n",
    "1. The data is no that large.\n",
    "2. Our target class is in the form of **Binary(i.e. YES or NO, also 0 or 1)**.\n",
    "3. Data contains some null values.\n",
    "4. Data has 12 columns and a column called **LOAN STATUS** is our target column"
   ]
  },
  {
   "cell_type": "markdown",
   "id": "58cd44eb",
   "metadata": {},
   "source": [
    "# Exploratory Data Analysis"
   ]
  },
  {
   "cell_type": "markdown",
   "id": "7cbf2d96",
   "metadata": {},
   "source": [
    "- Statistical Description"
   ]
  },
  {
   "cell_type": "code",
   "execution_count": 5,
   "id": "783e7d82",
   "metadata": {},
   "outputs": [
    {
     "data": {
      "text/html": [
       "<div>\n",
       "<style scoped>\n",
       "    .dataframe tbody tr th:only-of-type {\n",
       "        vertical-align: middle;\n",
       "    }\n",
       "\n",
       "    .dataframe tbody tr th {\n",
       "        vertical-align: top;\n",
       "    }\n",
       "\n",
       "    .dataframe thead th {\n",
       "        text-align: right;\n",
       "    }\n",
       "</style>\n",
       "<table border=\"1\" class=\"dataframe\">\n",
       "  <thead>\n",
       "    <tr style=\"text-align: right;\">\n",
       "      <th></th>\n",
       "      <th>ApplicantIncome</th>\n",
       "      <th>CoapplicantIncome</th>\n",
       "      <th>LoanAmount</th>\n",
       "      <th>Loan_Amount_Term</th>\n",
       "      <th>Credit_History</th>\n",
       "    </tr>\n",
       "  </thead>\n",
       "  <tbody>\n",
       "    <tr>\n",
       "      <th>count</th>\n",
       "      <td>614.000000</td>\n",
       "      <td>614.000000</td>\n",
       "      <td>592.000000</td>\n",
       "      <td>600.00000</td>\n",
       "      <td>564.000000</td>\n",
       "    </tr>\n",
       "    <tr>\n",
       "      <th>mean</th>\n",
       "      <td>5403.459283</td>\n",
       "      <td>1621.245798</td>\n",
       "      <td>146.412162</td>\n",
       "      <td>342.00000</td>\n",
       "      <td>0.842199</td>\n",
       "    </tr>\n",
       "    <tr>\n",
       "      <th>std</th>\n",
       "      <td>6109.041673</td>\n",
       "      <td>2926.248369</td>\n",
       "      <td>85.587325</td>\n",
       "      <td>65.12041</td>\n",
       "      <td>0.364878</td>\n",
       "    </tr>\n",
       "    <tr>\n",
       "      <th>min</th>\n",
       "      <td>150.000000</td>\n",
       "      <td>0.000000</td>\n",
       "      <td>9.000000</td>\n",
       "      <td>12.00000</td>\n",
       "      <td>0.000000</td>\n",
       "    </tr>\n",
       "    <tr>\n",
       "      <th>25%</th>\n",
       "      <td>2877.500000</td>\n",
       "      <td>0.000000</td>\n",
       "      <td>100.000000</td>\n",
       "      <td>360.00000</td>\n",
       "      <td>1.000000</td>\n",
       "    </tr>\n",
       "    <tr>\n",
       "      <th>50%</th>\n",
       "      <td>3812.500000</td>\n",
       "      <td>1188.500000</td>\n",
       "      <td>128.000000</td>\n",
       "      <td>360.00000</td>\n",
       "      <td>1.000000</td>\n",
       "    </tr>\n",
       "    <tr>\n",
       "      <th>75%</th>\n",
       "      <td>5795.000000</td>\n",
       "      <td>2297.250000</td>\n",
       "      <td>168.000000</td>\n",
       "      <td>360.00000</td>\n",
       "      <td>1.000000</td>\n",
       "    </tr>\n",
       "    <tr>\n",
       "      <th>max</th>\n",
       "      <td>81000.000000</td>\n",
       "      <td>41667.000000</td>\n",
       "      <td>700.000000</td>\n",
       "      <td>480.00000</td>\n",
       "      <td>1.000000</td>\n",
       "    </tr>\n",
       "  </tbody>\n",
       "</table>\n",
       "</div>"
      ],
      "text/plain": [
       "       ApplicantIncome  CoapplicantIncome  LoanAmount  Loan_Amount_Term  \\\n",
       "count       614.000000         614.000000  592.000000         600.00000   \n",
       "mean       5403.459283        1621.245798  146.412162         342.00000   \n",
       "std        6109.041673        2926.248369   85.587325          65.12041   \n",
       "min         150.000000           0.000000    9.000000          12.00000   \n",
       "25%        2877.500000           0.000000  100.000000         360.00000   \n",
       "50%        3812.500000        1188.500000  128.000000         360.00000   \n",
       "75%        5795.000000        2297.250000  168.000000         360.00000   \n",
       "max       81000.000000       41667.000000  700.000000         480.00000   \n",
       "\n",
       "       Credit_History  \n",
       "count      564.000000  \n",
       "mean         0.842199  \n",
       "std          0.364878  \n",
       "min          0.000000  \n",
       "25%          1.000000  \n",
       "50%          1.000000  \n",
       "75%          1.000000  \n",
       "max          1.000000  "
      ]
     },
     "execution_count": 5,
     "metadata": {},
     "output_type": "execute_result"
    }
   ],
   "source": [
    "data.describe()"
   ]
  },
  {
   "cell_type": "markdown",
   "id": "3b8cde52",
   "metadata": {},
   "source": [
    "## Univariate Analysis\n",
    "It is the simplest form of analyzing data where we examine each variable \n",
    "individually. For categorical features we can use frequency table or bar \n",
    "plots which will calculate the number of each category in a particular \n",
    "variable. For numerical features, probability density plots can be used to \n",
    "look at the distribution of the variable."
   ]
  },
  {
   "cell_type": "code",
   "execution_count": 6,
   "id": "9f8c824e",
   "metadata": {},
   "outputs": [
    {
     "data": {
      "text/plain": [
       "Y    422\n",
       "N    192\n",
       "Name: Loan_Status, dtype: int64"
      ]
     },
     "execution_count": 6,
     "metadata": {},
     "output_type": "execute_result"
    }
   ],
   "source": [
    "# Analyzing the target variable\n",
    "data['Loan_Status'].value_counts()"
   ]
  },
  {
   "cell_type": "code",
   "execution_count": 7,
   "id": "767e161a",
   "metadata": {},
   "outputs": [
    {
     "data": {
      "text/plain": [
       "Y    0.687296\n",
       "N    0.312704\n",
       "Name: Loan_Status, dtype: float64"
      ]
     },
     "execution_count": 7,
     "metadata": {},
     "output_type": "execute_result"
    }
   ],
   "source": [
    "# Lets's normalize and check the proportion\n",
    "data['Loan_Status'].value_counts(normalize=True)"
   ]
  },
  {
   "cell_type": "markdown",
   "id": "16bac367",
   "metadata": {},
   "source": [
    "- 422 loan requests has been approved out of 614 where percentage of approval is (69%)"
   ]
  },
  {
   "cell_type": "code",
   "execution_count": 8,
   "id": "293d5736",
   "metadata": {},
   "outputs": [
    {
     "data": {
      "image/png": "[encoded data removed]",
      "text/plain": [
       "<Figure size 432x432 with 1 Axes>"
      ]
     },
     "metadata": {},
     "output_type": "display_data"
    }
   ],
   "source": [
    "# Representing each category using visualization\n",
    "plt.figure(figsize=(6,6))\n",
    "sns.countplot(x='Loan_Status',data=data)\n",
    "plt.title('Loan Status')\n",
    "plt.show()"
   ]
  },
  {
   "cell_type": "markdown",
   "id": "f7fa7659",
   "metadata": {},
   "source": [
    "### Visualizing each variable \n",
    "- Different types of variables in our dataset are Categorical, ordinal and numerical.\n",
    "\n",
    "*Categorical features:* These features have categories (Gender, Married, Self_Employed, Credit_History, Loan_Status)\n",
    "\n",
    "*Ordinal features:* Variables in categorical features having some order involved (Dependents, Education, Property_Area)\n",
    "\n",
    "*Numerical features:* These features have numerical values (ApplicantIncome, CoapplicantIncome, LoanAmount, Loan_Amount_Term"
   ]
  },
  {
   "cell_type": "code",
   "execution_count": 9,
   "id": "e0e28584",
   "metadata": {},
   "outputs": [
    {
     "data": {
      "image/png": "[encoded data removed]",
      "text/plain": [
       "<Figure size 720x576 with 4 Axes>"
      ]
     },
     "metadata": {},
     "output_type": "display_data"
    }
   ],
   "source": [
    "# Analyzing independent variable (Categorical)\n",
    "\n",
    "plt.figure(figsize=(10,8))\n",
    "plt.subplot(221)\n",
    "sns.countplot(x='Gender',data=data)\n",
    "# plt.title('Gender')\n",
    "plt.subplot(222)\n",
    "sns.countplot(x='Married',data=data)\n",
    "# plt.title('Married')\n",
    "plt.subplot(223)\n",
    "sns.countplot(x='Self_Employed',data=data)\n",
    "# plt.title('Self_Employed')\n",
    "plt.subplot(224)\n",
    "sns.countplot(x='Credit_History',data=data)\n",
    "# plt.title('Credit_History')\n",
    "plt.show()"
   ]
  },
  {
   "cell_type": "markdown",
   "id": "6a5dc999",
   "metadata": {},
   "source": [
    "### Observations from above plots:\n",
    "1. Nearly 80% of the applicants in dataset are Male.\n",
    "2. Nearly 65% of the applicants in dataset are Married.\n",
    "3. Nearly 15% of the applicants in dataset are Self Employed. \n",
    "4. Nearly 85% of the applicants have repaid their debts."
   ]
  },
  {
   "cell_type": "code",
   "execution_count": 10,
   "id": "50d983dc",
   "metadata": {},
   "outputs": [
    {
     "data": {
      "image/png": "[encoded data removed]",
      "text/plain": [
       "<Figure size 1440x432 with 3 Axes>"
      ]
     },
     "metadata": {},
     "output_type": "display_data"
    }
   ],
   "source": [
    "# Analyzing Independent variable (Ordinal)\n",
    "\n",
    "plt.figure(figsize=(20,6))\n",
    "plt.figure(num=1)\n",
    "plt.subplot(131)\n",
    "sns.countplot(x='Dependents', data=data)\n",
    "plt.subplot(132)\n",
    "sns.countplot(x='Education', data=data)\n",
    "plt.subplot(133)\n",
    "sns.countplot(x='Property_Area', data=data)\n",
    "plt.show()"
   ]
  },
  {
   "cell_type": "markdown",
   "id": "058d8300",
   "metadata": {},
   "source": [
    "### Observations can be made from above barplots:\n",
    "- Most of the applicants doesn't have any dependents.\n",
    "- Around 80% of the applicants are Graduate.\n",
    "- Most of the applicants are form Semi-Urban Area"
   ]
  },
  {
   "cell_type": "markdown",
   "id": "f3a00387",
   "metadata": {},
   "source": [
    "# Numerical Analysis"
   ]
  },
  {
   "cell_type": "code",
   "execution_count": 11,
   "id": "38425f31",
   "metadata": {},
   "outputs": [
    {
     "data": {
      "image/png": "[encoded data removed]",
      "text/plain": [
       "<Figure size 1152x360 with 2 Axes>"
      ]
     },
     "metadata": {},
     "output_type": "display_data"
    }
   ],
   "source": [
    "plt.figure(figsize=(16,5))\n",
    "plt.subplot(121)\n",
    "sns.distplot(data['ApplicantIncome'],bins=30)\n",
    "plt.subplot(122)\n",
    "sns.boxplot(data['ApplicantIncome'])\n",
    "plt.tight_layout()\n",
    "plt.show()"
   ]
  },
  {
   "cell_type": "markdown",
   "id": "a445c67d",
   "metadata": {},
   "source": [
    "### Observation:\n",
    "- It can be inferred that most of the data in distribution of applicant income is towards left which means it is not normally distributed. We will try to make it normal later as algorithms works better if the dta is normally distributed.\n",
    "\n",
    "- The boxplot confirms the presence of a lot of outliers/extreene values. This can be attributed to the income disparity in the society. Part of this can be driven by the fact that we are looking at people with different education levels. "
   ]
  },
  {
   "cell_type": "code",
   "execution_count": 12,
   "id": "074ffc17",
   "metadata": {
    "scrolled": true
   },
   "outputs": [
    {
     "data": {
      "image/png": "[encoded data removed]",
      "text/plain": [
       "<Figure size 432x288 with 1 Axes>"
      ]
     },
     "metadata": {},
     "output_type": "display_data"
    }
   ],
   "source": [
    "data.boxplot(column='ApplicantIncome', by='Education')\n",
    "plt.suptitle('')\n",
    "plt.tight_layout()"
   ]
  },
  {
   "cell_type": "markdown",
   "id": "b2e89a86",
   "metadata": {},
   "source": [
    "- Grauduate people have high income than those who are Non-Graduate."
   ]
  },
  {
   "cell_type": "markdown",
   "id": "d4f12717",
   "metadata": {},
   "source": [
    "- Let's see **ApplicantIncome** factor for **Marital Status and Employed type**"
   ]
  },
  {
   "cell_type": "code",
   "execution_count": 13,
   "id": "1b11d62b",
   "metadata": {},
   "outputs": [
    {
     "data": {
      "text/plain": [
       "Text(0.5, 0.98, ' ')"
      ]
     },
     "execution_count": 13,
     "metadata": {},
     "output_type": "execute_result"
    },
    {
     "data": {
      "image/png": "[encoded data removed]",
      "text/plain": [
       "<Figure size 432x288 with 1 Axes>"
      ]
     },
     "metadata": {},
     "output_type": "display_data"
    }
   ],
   "source": [
    "data.boxplot(column='ApplicantIncome', by='Married')\n",
    "plt.suptitle(' ')"
   ]
  },
  {
   "cell_type": "markdown",
   "id": "943f4237",
   "metadata": {},
   "source": [
    "- Married applicants has large amout-range of income"
   ]
  },
  {
   "cell_type": "code",
   "execution_count": 14,
   "id": "d18b7c49",
   "metadata": {},
   "outputs": [
    {
     "data": {
      "text/plain": [
       "Text(0.5, 0.98, ' ')"
      ]
     },
     "execution_count": 14,
     "metadata": {},
     "output_type": "execute_result"
    },
    {
     "data": {
      "image/png": "[encoded data removed]",
      "text/plain": [
       "<Figure size 432x288 with 1 Axes>"
      ]
     },
     "metadata": {},
     "output_type": "display_data"
    }
   ],
   "source": [
    "data.boxplot(column='ApplicantIncome', by='Self_Employed')\n",
    "plt.suptitle(' ')"
   ]
  },
  {
   "cell_type": "markdown",
   "id": "11375c0b",
   "metadata": {},
   "source": [
    "- Those are **Self-Employed** (business, freelancing, etc.) has lower income amount-range than applicants who are Employed."
   ]
  },
  {
   "cell_type": "markdown",
   "id": "97e69622",
   "metadata": {},
   "source": [
    "### Observation:\n",
    "\n",
    "Those who category who has high income range are also appearnig to be the outliers."
   ]
  },
  {
   "cell_type": "code",
   "execution_count": 15,
   "id": "493e0839",
   "metadata": {},
   "outputs": [
    {
     "data": {
      "text/plain": [
       "<Figure size 432x288 with 0 Axes>"
      ]
     },
     "metadata": {},
     "output_type": "display_data"
    },
    {
     "data": {
      "image/png": "[encoded data removed]",
      "text/plain": [
       "<Figure size 1152x360 with 2 Axes>"
      ]
     },
     "metadata": {},
     "output_type": "display_data"
    }
   ],
   "source": [
    "plt.figure(num=1)\n",
    "plt.figure(figsize=(16,5))\n",
    "plt.subplot(121)\n",
    "sns.distplot(data['CoapplicantIncome'],bins=30)\n",
    "plt.subplot(122)\n",
    "data.boxplot(column='CoapplicantIncome')\n",
    "plt.show()"
   ]
  },
  {
   "cell_type": "markdown",
   "id": "2dc295be",
   "metadata": {},
   "source": [
    "#### We see a similar distribution as that applicant income. Majority of coapplicant's income ranges from 0 to 5000. We also see a lot of outliers in the coapplicant income and it is not normally distributed."
   ]
  },
  {
   "cell_type": "code",
   "execution_count": 16,
   "id": "9a034a74",
   "metadata": {},
   "outputs": [
    {
     "data": {
      "image/png": "[encoded data removed]",
      "text/plain": [
       "<Figure size 1152x360 with 2 Axes>"
      ]
     },
     "metadata": {},
     "output_type": "display_data"
    }
   ],
   "source": [
    "plt.figure(1)\n",
    "plt.subplot(121)\n",
    "# For better working it is necessary to drop null values\n",
    "df = data.dropna()\n",
    "sns.distplot(df['LoanAmount'],bins=30,color='purple')\n",
    "plt.subplot(122)\n",
    "data['LoanAmount'].plot.box(figsize=(16,5))\n",
    "plt.show()"
   ]
  },
  {
   "cell_type": "markdown",
   "id": "a96d7c04",
   "metadata": {},
   "source": [
    "#### We see a lot of outliers in **LoanAmount** is variable and the distribution is fairly normal."
   ]
  },
  {
   "cell_type": "markdown",
   "id": "758f6313",
   "metadata": {},
   "source": [
    "## PairPlot\n",
    "Pairplot will plot pairwise relationships across an entire dataframe(for the numerical columns only) and supports a colos hue argument(for categorical columns)."
   ]
  },
  {
   "cell_type": "code",
   "execution_count": 17,
   "id": "4699776c",
   "metadata": {},
   "outputs": [
    {
     "data": {
      "text/plain": [
       "<seaborn.axisgrid.PairGrid at 0x2c019b3d4f0>"
      ]
     },
     "execution_count": 17,
     "metadata": {},
     "output_type": "execute_result"
    },
    {
     "data": {
      "text/plain": [
       "<Figure size 1296x1008 with 0 Axes>"
      ]
     },
     "metadata": {},
     "output_type": "display_data"
    },
    {
     "data": {
      "image/png": "[encoded data removed]",
      "text/plain": [
       "<Figure size 1005.98x900 with 30 Axes>"
      ]
     },
     "metadata": {},
     "output_type": "display_data"
    }
   ],
   "source": [
    "plt.figure(figsize=(18,14))\n",
    "sns.pairplot(df,hue='Education', palette='dark')"
   ]
  },
  {
   "cell_type": "markdown",
   "id": "cafadf0d",
   "metadata": {},
   "source": [
    "## Bivariate Analysis\n",
    "After looking at every variable individually in univariate analysis, we will now explore them again with respect to the target variable, We would like to know how well each feature correlate with our target variable Loan Status."
   ]
  },
  {
   "cell_type": "markdown",
   "id": "6d260202",
   "metadata": {},
   "source": [
    "## Categorical Independent Variable vs Target Variable\n",
    "First of all we will find the relation between target variable and categorical variables. Let us look at the stacked bar plot now which will give us the proportion of approved and unapproved loans"
   ]
  },
  {
   "cell_type": "code",
   "execution_count": 18,
   "id": "855cc15a",
   "metadata": {},
   "outputs": [
    {
     "data": {
      "text/html": [
       "<div>\n",
       "<style scoped>\n",
       "    .dataframe tbody tr th:only-of-type {\n",
       "        vertical-align: middle;\n",
       "    }\n",
       "\n",
       "    .dataframe tbody tr th {\n",
       "        vertical-align: top;\n",
       "    }\n",
       "\n",
       "    .dataframe thead th {\n",
       "        text-align: right;\n",
       "    }\n",
       "</style>\n",
       "<table border=\"1\" class=\"dataframe\">\n",
       "  <thead>\n",
       "    <tr style=\"text-align: right;\">\n",
       "      <th>Loan_Status</th>\n",
       "      <th>N</th>\n",
       "      <th>Y</th>\n",
       "    </tr>\n",
       "    <tr>\n",
       "      <th>Gender</th>\n",
       "      <th></th>\n",
       "      <th></th>\n",
       "    </tr>\n",
       "  </thead>\n",
       "  <tbody>\n",
       "    <tr>\n",
       "      <th>Female</th>\n",
       "      <td>37</td>\n",
       "      <td>75</td>\n",
       "    </tr>\n",
       "    <tr>\n",
       "      <th>Male</th>\n",
       "      <td>150</td>\n",
       "      <td>339</td>\n",
       "    </tr>\n",
       "  </tbody>\n",
       "</table>\n",
       "</div>"
      ],
      "text/plain": [
       "Loan_Status    N    Y\n",
       "Gender               \n",
       "Female        37   75\n",
       "Male         150  339"
      ]
     },
     "execution_count": 18,
     "metadata": {},
     "output_type": "execute_result"
    }
   ],
   "source": [
    "Gender=pd.crosstab(index=data['Gender'],columns=data['Loan_Status'])\n",
    "Gender"
   ]
  },
  {
   "cell_type": "markdown",
   "id": "ea905a1a",
   "metadata": {},
   "source": [
    "---\n",
    "* _Crosstab_: A crosstab is a table showing the relationship between two or more variables. Where the table only shows the relationship between two categorical variables, a crosstab is also known as a contingency table.\n",
    "---"
   ]
  },
  {
   "cell_type": "code",
   "execution_count": 19,
   "id": "3e8c52df",
   "metadata": {},
   "outputs": [
    {
     "data": {
      "text/plain": [
       "Gender\n",
       "Female    112.0\n",
       "Male      489.0\n",
       "dtype: float64"
      ]
     },
     "execution_count": 19,
     "metadata": {},
     "output_type": "execute_result"
    }
   ],
   "source": [
    "Gender.sum(1).astype(float)"
   ]
  },
  {
   "cell_type": "code",
   "execution_count": 20,
   "id": "6cd471d8",
   "metadata": {},
   "outputs": [
    {
     "name": "stdout",
     "output_type": "stream",
     "text": [
      "Percentage of Female applicants whose application is approved: 66.96%\n"
     ]
    }
   ],
   "source": [
    "female_Y = round((75/112)*100,2)\n",
    "print(\"Percentage of Female applicants whose application is approved: {}%\".format(female_Y))"
   ]
  },
  {
   "cell_type": "code",
   "execution_count": 21,
   "id": "b421d6ac",
   "metadata": {},
   "outputs": [
    {
     "name": "stdout",
     "output_type": "stream",
     "text": [
      "Percentage of male applicants whose application is approved: 69.33%\n"
     ]
    }
   ],
   "source": [
    "male_Y=round((339/489)*100,2)\n",
    "print(\"Percentage of male applicants whose application is approved: {}%\".format(male_Y))"
   ]
  },
  {
   "cell_type": "code",
   "execution_count": 22,
   "id": "a7650210",
   "metadata": {},
   "outputs": [
    {
     "data": {
      "image/png": "[encoded data removed]",
      "text/plain": [
       "<Figure size 432x360 with 1 Axes>"
      ]
     },
     "metadata": {},
     "output_type": "display_data"
    }
   ],
   "source": [
    "Gender.div(Gender.sum(1).astype(float), axis=0).plot(kind=\"bar\", stacked=True, figsize=(6,5))\n",
    "plt.legend(loc = 'upper left',bbox_to_anchor= (1,1),title='Loan_Status')\n",
    "plt.show()"
   ]
  },
  {
   "cell_type": "markdown",
   "id": "c1cf3c8c",
   "metadata": {},
   "source": [
    "###  It can be inferred that the proportion of male anf female applicants is more or less for both approved and unapproved loans."
   ]
  },
  {
   "cell_type": "code",
   "execution_count": 23,
   "id": "af3f87da",
   "metadata": {},
   "outputs": [
    {
     "data": {
      "image/png": "[encoded data removed]",
      "text/plain": [
       "<Figure size 432x360 with 1 Axes>"
      ]
     },
     "metadata": {},
     "output_type": "display_data"
    }
   ],
   "source": [
    "Married=pd.crosstab(data['Married'], data['Loan_Status'])\n",
    "Married.div(Married.sum(1).astype(float), axis=0).plot(kind='bar',stacked=True,figsize=(6,5))\n",
    "plt.legend(bbox_to_anchor=(1,1),loc='upper left', title='Loan_Status')\n",
    "plt.show()"
   ]
  },
  {
   "cell_type": "markdown",
   "id": "bdaa75ef",
   "metadata": {},
   "source": [
    "---\n",
    "### Proportion of married applicants is higher for he approved loans.\n",
    "---"
   ]
  },
  {
   "cell_type": "code",
   "execution_count": 24,
   "id": "9435096d",
   "metadata": {},
   "outputs": [
    {
     "data": {
      "image/png": "[encoded data removed]",
      "text/plain": [
       "<Figure size 432x360 with 1 Axes>"
      ]
     },
     "metadata": {},
     "output_type": "display_data"
    }
   ],
   "source": [
    "Dependents=pd.crosstab(data['Dependents'], data['Loan_Status'])\n",
    "Dependents.div(Dependents.sum(1).astype(float), axis=0).plot(kind='bar',stacked=True,figsize=(6,5))\n",
    "plt.legend(bbox_to_anchor=(1,1),loc='upper left', title='Loan_Status')\n",
    "plt.show()"
   ]
  },
  {
   "cell_type": "markdown",
   "id": "c0dad015",
   "metadata": {},
   "source": [
    "### Distribution of applicants with 1 or 3+ dependents is similar across both the categories of Loan_Status."
   ]
  },
  {
   "cell_type": "code",
   "execution_count": 25,
   "id": "a6be9f3f",
   "metadata": {},
   "outputs": [
    {
     "data": {
      "image/png": "[encoded data removed]",
      "text/plain": [
       "<Figure size 432x360 with 1 Axes>"
      ]
     },
     "metadata": {},
     "output_type": "display_data"
    }
   ],
   "source": [
    "Self_Employed = pd.crosstab(data['Self_Employed'], data['Loan_Status'])\n",
    "Self_Employed.div(Self_Employed.sum(1).astype(float),axis=0).plot(kind='bar', stacked=True, figsize=(6,5))\n",
    "plt.legend(bbox_to_anchor=(1,1),loc='upper left',title='Loan_Status')\n",
    "plt.show()"
   ]
  },
  {
   "cell_type": "markdown",
   "id": "fbffab20",
   "metadata": {},
   "source": [
    "---\n",
    "### Proportion of graduate applicants is higher for the approved loans. This is obivous beccause Graudate applicants fail into the higher income bracket."
   ]
  },
  {
   "cell_type": "code",
   "execution_count": 26,
   "id": "da408684",
   "metadata": {},
   "outputs": [
    {
     "data": {
      "image/png": "[encoded data removed]",
      "text/plain": [
       "<Figure size 432x360 with 1 Axes>"
      ]
     },
     "metadata": {},
     "output_type": "display_data"
    }
   ],
   "source": [
    "Credit_History = pd.crosstab(data['Credit_History'], data['Loan_Status'])\n",
    "Credit_History.div(Credit_History.sum(1).astype(float),axis=0).plot(kind='bar',stacked=True,figsize=(6,5))\n",
    "plt.legend(bbox_to_anchor=(1,1),loc='upper left',title='Loan_Status')\n",
    "plt.show()"
   ]
  },
  {
   "cell_type": "markdown",
   "id": "f074aa93",
   "metadata": {},
   "source": [
    "---\n",
    "### 1. It seems poeple with credit history as 1 are more likely to get their loans approved.\n",
    "### 2. Good credit history means good repayment capacity.\n",
    "---"
   ]
  },
  {
   "cell_type": "code",
   "execution_count": 27,
   "id": "ff0628e1",
   "metadata": {},
   "outputs": [
    {
     "data": {
      "image/png": "[encoded data removed]",
      "text/plain": [
       "<Figure size 432x360 with 1 Axes>"
      ]
     },
     "metadata": {},
     "output_type": "display_data"
    }
   ],
   "source": [
    "Property_Area = pd.crosstab(data['Property_Area'], data['Loan_Status'])\n",
    "Property_Area.div(Property_Area.sum(1).astype(float),axis=0).plot(kind='bar',stacked=True, figsize=(6,5))\n",
    "plt.legend(bbox_to_anchor=(1,1),loc='upper left', title='Loan_Status')\n",
    "plt.show()"
   ]
  },
  {
   "cell_type": "markdown",
   "id": "b5810884",
   "metadata": {},
   "source": [
    "---\n",
    "### Proportion of loans getting approved in semiburn area is higher compared to that in rural or urban area.\n",
    "---"
   ]
  },
  {
   "cell_type": "markdown",
   "id": "36dbc1bf",
   "metadata": {},
   "source": [
    "## Numerical Independent Variable vs Target Variable\n",
    "**ApplicantIncome vs Loan_Status**\n",
    "\n",
    "We will try to find the mean income of people for which the loan has been approved vs the mean income of people for which the loan has not been approved."
   ]
  },
  {
   "cell_type": "code",
   "execution_count": 28,
   "id": "4d11bd42",
   "metadata": {},
   "outputs": [
    {
     "data": {
      "text/html": [
       "<div>\n",
       "<style scoped>\n",
       "    .dataframe tbody tr th:only-of-type {\n",
       "        vertical-align: middle;\n",
       "    }\n",
       "\n",
       "    .dataframe tbody tr th {\n",
       "        vertical-align: top;\n",
       "    }\n",
       "\n",
       "    .dataframe thead th {\n",
       "        text-align: right;\n",
       "    }\n",
       "</style>\n",
       "<table border=\"1\" class=\"dataframe\">\n",
       "  <thead>\n",
       "    <tr style=\"text-align: right;\">\n",
       "      <th></th>\n",
       "      <th>ApplicantIncome</th>\n",
       "      <th>CoapplicantIncome</th>\n",
       "      <th>LoanAmount</th>\n",
       "      <th>Loan_Amount_Term</th>\n",
       "      <th>Credit_History</th>\n",
       "    </tr>\n",
       "    <tr>\n",
       "      <th>Loan_Status</th>\n",
       "      <th></th>\n",
       "      <th></th>\n",
       "      <th></th>\n",
       "      <th></th>\n",
       "      <th></th>\n",
       "    </tr>\n",
       "  </thead>\n",
       "  <tbody>\n",
       "    <tr>\n",
       "      <th>N</th>\n",
       "      <td>5446.078125</td>\n",
       "      <td>1877.807292</td>\n",
       "      <td>151.220994</td>\n",
       "      <td>344.064516</td>\n",
       "      <td>0.541899</td>\n",
       "    </tr>\n",
       "    <tr>\n",
       "      <th>Y</th>\n",
       "      <td>5384.068720</td>\n",
       "      <td>1504.516398</td>\n",
       "      <td>144.294404</td>\n",
       "      <td>341.072464</td>\n",
       "      <td>0.981818</td>\n",
       "    </tr>\n",
       "  </tbody>\n",
       "</table>\n",
       "</div>"
      ],
      "text/plain": [
       "             ApplicantIncome  CoapplicantIncome  LoanAmount  Loan_Amount_Term  \\\n",
       "Loan_Status                                                                     \n",
       "N                5446.078125        1877.807292  151.220994        344.064516   \n",
       "Y                5384.068720        1504.516398  144.294404        341.072464   \n",
       "\n",
       "             Credit_History  \n",
       "Loan_Status                  \n",
       "N                  0.541899  \n",
       "Y                  0.981818  "
      ]
     },
     "execution_count": 28,
     "metadata": {},
     "output_type": "execute_result"
    }
   ],
   "source": [
    "data.groupby('Loan_Status').mean()"
   ]
  },
  {
   "cell_type": "code",
   "execution_count": 29,
   "id": "ea4445f1",
   "metadata": {},
   "outputs": [
    {
     "data": {
      "text/plain": [
       "<matplotlib.legend.Legend at 0x2c01a226dc0>"
      ]
     },
     "execution_count": 29,
     "metadata": {},
     "output_type": "execute_result"
    },
    {
     "data": {
      "image/png": "[encoded data removed]",
      "text/plain": [
       "<Figure size 432x288 with 1 Axes>"
      ]
     },
     "metadata": {},
     "output_type": "display_data"
    }
   ],
   "source": [
    "data.groupby('Loan_Status').mean().plot.bar()\n",
    "plt.legend(bbox_to_anchor=(1,1),loc='upper left')"
   ]
  },
  {
   "cell_type": "markdown",
   "id": "2a4cc61c",
   "metadata": {},
   "source": [
    "**Let's make bins for the applicant income variable based on the values in and analyze the corresponding loan statys for each bin.**"
   ]
  },
  {
   "cell_type": "code",
   "execution_count": 30,
   "id": "78b56477",
   "metadata": {},
   "outputs": [
    {
     "data": {
      "text/plain": [
       "Loan_Status\n",
       "N    5446.078125\n",
       "Y    5384.068720\n",
       "Name: ApplicantIncome, dtype: float64"
      ]
     },
     "execution_count": 30,
     "metadata": {},
     "output_type": "execute_result"
    }
   ],
   "source": [
    "data.groupby('Loan_Status')['ApplicantIncome'].mean()"
   ]
  },
  {
   "cell_type": "code",
   "execution_count": 31,
   "id": "60ba8a66",
   "metadata": {},
   "outputs": [],
   "source": [
    "bins=[0,2500,4000,6000,8100]\n",
    "groups=['Low','Average','High','Very High']"
   ]
  },
  {
   "cell_type": "code",
   "execution_count": 32,
   "id": "47036d7e",
   "metadata": {},
   "outputs": [
    {
     "data": {
      "text/plain": [
       "Loan_ID              0\n",
       "Gender               0\n",
       "Married              0\n",
       "Dependents           0\n",
       "Education            0\n",
       "Self_Employed        0\n",
       "ApplicantIncome      0\n",
       "CoapplicantIncome    0\n",
       "LoanAmount           0\n",
       "Loan_Amount_Term     0\n",
       "Credit_History       0\n",
       "Property_Area        0\n",
       "Loan_Status          0\n",
       "dtype: int64"
      ]
     },
     "execution_count": 32,
     "metadata": {},
     "output_type": "execute_result"
    }
   ],
   "source": [
    "df.head(3) # dataframe without nan values\n",
    "df.isna().sum()"
   ]
  },
  {
   "cell_type": "code",
   "execution_count": 33,
   "id": "6ffb56a4",
   "metadata": {},
   "outputs": [],
   "source": [
    "data['Income_groups']= pd.cut(df['ApplicantIncome'],bins=bins,labels=groups)"
   ]
  },
  {
   "cell_type": "code",
   "execution_count": 34,
   "id": "3e3b052e",
   "metadata": {},
   "outputs": [
    {
     "data": {
      "text/html": [
       "<div>\n",
       "<style scoped>\n",
       "    .dataframe tbody tr th:only-of-type {\n",
       "        vertical-align: middle;\n",
       "    }\n",
       "\n",
       "    .dataframe tbody tr th {\n",
       "        vertical-align: top;\n",
       "    }\n",
       "\n",
       "    .dataframe thead th {\n",
       "        text-align: right;\n",
       "    }\n",
       "</style>\n",
       "<table border=\"1\" class=\"dataframe\">\n",
       "  <thead>\n",
       "    <tr style=\"text-align: right;\">\n",
       "      <th></th>\n",
       "      <th>Loan_ID</th>\n",
       "      <th>Gender</th>\n",
       "      <th>Married</th>\n",
       "      <th>Dependents</th>\n",
       "      <th>Education</th>\n",
       "      <th>Self_Employed</th>\n",
       "      <th>ApplicantIncome</th>\n",
       "      <th>CoapplicantIncome</th>\n",
       "      <th>LoanAmount</th>\n",
       "      <th>Loan_Amount_Term</th>\n",
       "      <th>Credit_History</th>\n",
       "      <th>Property_Area</th>\n",
       "      <th>Loan_Status</th>\n",
       "      <th>Income_groups</th>\n",
       "    </tr>\n",
       "  </thead>\n",
       "  <tbody>\n",
       "    <tr>\n",
       "      <th>0</th>\n",
       "      <td>LP001002</td>\n",
       "      <td>Male</td>\n",
       "      <td>No</td>\n",
       "      <td>0</td>\n",
       "      <td>Graduate</td>\n",
       "      <td>No</td>\n",
       "      <td>5849</td>\n",
       "      <td>0.0</td>\n",
       "      <td>NaN</td>\n",
       "      <td>360.0</td>\n",
       "      <td>1.0</td>\n",
       "      <td>Urban</td>\n",
       "      <td>Y</td>\n",
       "      <td>NaN</td>\n",
       "    </tr>\n",
       "    <tr>\n",
       "      <th>1</th>\n",
       "      <td>LP001003</td>\n",
       "      <td>Male</td>\n",
       "      <td>Yes</td>\n",
       "      <td>1</td>\n",
       "      <td>Graduate</td>\n",
       "      <td>No</td>\n",
       "      <td>4583</td>\n",
       "      <td>1508.0</td>\n",
       "      <td>128.0</td>\n",
       "      <td>360.0</td>\n",
       "      <td>1.0</td>\n",
       "      <td>Rural</td>\n",
       "      <td>N</td>\n",
       "      <td>High</td>\n",
       "    </tr>\n",
       "    <tr>\n",
       "      <th>2</th>\n",
       "      <td>LP001005</td>\n",
       "      <td>Male</td>\n",
       "      <td>Yes</td>\n",
       "      <td>0</td>\n",
       "      <td>Graduate</td>\n",
       "      <td>Yes</td>\n",
       "      <td>3000</td>\n",
       "      <td>0.0</td>\n",
       "      <td>66.0</td>\n",
       "      <td>360.0</td>\n",
       "      <td>1.0</td>\n",
       "      <td>Urban</td>\n",
       "      <td>Y</td>\n",
       "      <td>Average</td>\n",
       "    </tr>\n",
       "    <tr>\n",
       "      <th>3</th>\n",
       "      <td>LP001006</td>\n",
       "      <td>Male</td>\n",
       "      <td>Yes</td>\n",
       "      <td>0</td>\n",
       "      <td>Not Graduate</td>\n",
       "      <td>No</td>\n",
       "      <td>2583</td>\n",
       "      <td>2358.0</td>\n",
       "      <td>120.0</td>\n",
       "      <td>360.0</td>\n",
       "      <td>1.0</td>\n",
       "      <td>Urban</td>\n",
       "      <td>Y</td>\n",
       "      <td>Average</td>\n",
       "    </tr>\n",
       "    <tr>\n",
       "      <th>4</th>\n",
       "      <td>LP001008</td>\n",
       "      <td>Male</td>\n",
       "      <td>No</td>\n",
       "      <td>0</td>\n",
       "      <td>Graduate</td>\n",
       "      <td>No</td>\n",
       "      <td>6000</td>\n",
       "      <td>0.0</td>\n",
       "      <td>141.0</td>\n",
       "      <td>360.0</td>\n",
       "      <td>1.0</td>\n",
       "      <td>Urban</td>\n",
       "      <td>Y</td>\n",
       "      <td>High</td>\n",
       "    </tr>\n",
       "  </tbody>\n",
       "</table>\n",
       "</div>"
      ],
      "text/plain": [
       "    Loan_ID Gender Married Dependents     Education Self_Employed  \\\n",
       "0  LP001002   Male      No          0      Graduate            No   \n",
       "1  LP001003   Male     Yes          1      Graduate            No   \n",
       "2  LP001005   Male     Yes          0      Graduate           Yes   \n",
       "3  LP001006   Male     Yes          0  Not Graduate            No   \n",
       "4  LP001008   Male      No          0      Graduate            No   \n",
       "\n",
       "   ApplicantIncome  CoapplicantIncome  LoanAmount  Loan_Amount_Term  \\\n",
       "0             5849                0.0         NaN             360.0   \n",
       "1             4583             1508.0       128.0             360.0   \n",
       "2             3000                0.0        66.0             360.0   \n",
       "3             2583             2358.0       120.0             360.0   \n",
       "4             6000                0.0       141.0             360.0   \n",
       "\n",
       "   Credit_History Property_Area Loan_Status Income_groups  \n",
       "0             1.0         Urban           Y           NaN  \n",
       "1             1.0         Rural           N          High  \n",
       "2             1.0         Urban           Y       Average  \n",
       "3             1.0         Urban           Y       Average  \n",
       "4             1.0         Urban           Y          High  "
      ]
     },
     "execution_count": 34,
     "metadata": {},
     "output_type": "execute_result"
    }
   ],
   "source": [
    "data.head()"
   ]
  },
  {
   "cell_type": "code",
   "execution_count": 35,
   "id": "6639f96b",
   "metadata": {},
   "outputs": [
    {
     "data": {
      "text/plain": [
       "Average      174\n",
       "High         111\n",
       "Low           83\n",
       "Very High     44\n",
       "Name: Income_groups, dtype: int64"
      ]
     },
     "execution_count": 35,
     "metadata": {},
     "output_type": "execute_result"
    }
   ],
   "source": [
    "data['Income_groups'].value_counts()"
   ]
  },
  {
   "cell_type": "code",
   "execution_count": 36,
   "id": "a9374c73",
   "metadata": {},
   "outputs": [
    {
     "data": {
      "text/html": [
       "<div>\n",
       "<style scoped>\n",
       "    .dataframe tbody tr th:only-of-type {\n",
       "        vertical-align: middle;\n",
       "    }\n",
       "\n",
       "    .dataframe tbody tr th {\n",
       "        vertical-align: top;\n",
       "    }\n",
       "\n",
       "    .dataframe thead th {\n",
       "        text-align: right;\n",
       "    }\n",
       "</style>\n",
       "<table border=\"1\" class=\"dataframe\">\n",
       "  <thead>\n",
       "    <tr style=\"text-align: right;\">\n",
       "      <th></th>\n",
       "      <th>ApplicantIncome</th>\n",
       "      <th>Income_groups</th>\n",
       "      <th>Loan_Status</th>\n",
       "    </tr>\n",
       "  </thead>\n",
       "  <tbody>\n",
       "    <tr>\n",
       "      <th>0</th>\n",
       "      <td>5849</td>\n",
       "      <td>NaN</td>\n",
       "      <td>Y</td>\n",
       "    </tr>\n",
       "    <tr>\n",
       "      <th>1</th>\n",
       "      <td>4583</td>\n",
       "      <td>High</td>\n",
       "      <td>N</td>\n",
       "    </tr>\n",
       "    <tr>\n",
       "      <th>2</th>\n",
       "      <td>3000</td>\n",
       "      <td>Average</td>\n",
       "      <td>Y</td>\n",
       "    </tr>\n",
       "    <tr>\n",
       "      <th>3</th>\n",
       "      <td>2583</td>\n",
       "      <td>Average</td>\n",
       "      <td>Y</td>\n",
       "    </tr>\n",
       "  </tbody>\n",
       "</table>\n",
       "</div>"
      ],
      "text/plain": [
       "   ApplicantIncome Income_groups Loan_Status\n",
       "0             5849           NaN           Y\n",
       "1             4583          High           N\n",
       "2             3000       Average           Y\n",
       "3             2583       Average           Y"
      ]
     },
     "execution_count": 36,
     "metadata": {},
     "output_type": "execute_result"
    }
   ],
   "source": [
    "data[['ApplicantIncome', 'Income_groups', 'Loan_Status']].head(n=4)"
   ]
  },
  {
   "cell_type": "code",
   "execution_count": 37,
   "id": "e6fc850d",
   "metadata": {},
   "outputs": [
    {
     "data": {
      "text/html": [
       "<div>\n",
       "<style scoped>\n",
       "    .dataframe tbody tr th:only-of-type {\n",
       "        vertical-align: middle;\n",
       "    }\n",
       "\n",
       "    .dataframe tbody tr th {\n",
       "        vertical-align: top;\n",
       "    }\n",
       "\n",
       "    .dataframe thead th {\n",
       "        text-align: right;\n",
       "    }\n",
       "</style>\n",
       "<table border=\"1\" class=\"dataframe\">\n",
       "  <thead>\n",
       "    <tr style=\"text-align: right;\">\n",
       "      <th>Loan_Status</th>\n",
       "      <th>N</th>\n",
       "      <th>Y</th>\n",
       "    </tr>\n",
       "    <tr>\n",
       "      <th>Income_groups</th>\n",
       "      <th></th>\n",
       "      <th></th>\n",
       "    </tr>\n",
       "  </thead>\n",
       "  <tbody>\n",
       "    <tr>\n",
       "      <th>Low</th>\n",
       "      <td>26</td>\n",
       "      <td>57</td>\n",
       "    </tr>\n",
       "    <tr>\n",
       "      <th>Average</th>\n",
       "      <td>51</td>\n",
       "      <td>123</td>\n",
       "    </tr>\n",
       "    <tr>\n",
       "      <th>High</th>\n",
       "      <td>32</td>\n",
       "      <td>79</td>\n",
       "    </tr>\n",
       "    <tr>\n",
       "      <th>Very High</th>\n",
       "      <td>15</td>\n",
       "      <td>29</td>\n",
       "    </tr>\n",
       "  </tbody>\n",
       "</table>\n",
       "</div>"
      ],
      "text/plain": [
       "Loan_Status     N    Y\n",
       "Income_groups         \n",
       "Low            26   57\n",
       "Average        51  123\n",
       "High           32   79\n",
       "Very High      15   29"
      ]
     },
     "execution_count": 37,
     "metadata": {},
     "output_type": "execute_result"
    }
   ],
   "source": [
    "# Pandas Crosstab function drops the NaN values by default\n",
    "Income_groups = pd.crosstab(index=data['Income_groups'],columns=data['Loan_Status'])\n",
    "Income_groups"
   ]
  },
  {
   "cell_type": "code",
   "execution_count": 38,
   "id": "6e48a81a",
   "metadata": {},
   "outputs": [
    {
     "data": {
      "image/png": "[encoded data removed]",
      "text/plain": [
       "<Figure size 432x360 with 1 Axes>"
      ]
     },
     "metadata": {},
     "output_type": "display_data"
    }
   ],
   "source": [
    "Income_groups.div(Income_groups.sum(1).astype(float),axis=0).plot(kind='bar',stacked=True,figsize=(6,5))\n",
    "plt.xlabel('ApplicantIncome')\n",
    "plt.ylabel('Percentage')\n",
    "plt.legend(loc='upper left',bbox_to_anchor=(1,1),title='Loan_Status')\n",
    "plt.show()"
   ]
  },
  {
   "cell_type": "markdown",
   "id": "91a25a1e",
   "metadata": {},
   "source": [
    "---\n",
    "### We can see that Applicant Income does not affect the chances of loan approval which contradict our hypothesis in which we assumed that is the applicant income is hight the chances of gettig loan approval will also be high.\n",
    "\n",
    "- Ho = Higher the Applicant Income higher chance of getting loan approval.(Null Hypothesis)\n",
    "\n",
    "- Ha = Income will not affect the loan approval.(Alternate Hypothesis)\n",
    "\n",
    "So, we are rejecting our **NULL HYPOTHESIS**\n",
    "\n",
    "---"
   ]
  },
  {
   "cell_type": "markdown",
   "id": "cc6cb6ca",
   "metadata": {},
   "source": [
    "**Let's check same for the Coapplicant Income.**"
   ]
  },
  {
   "cell_type": "code",
   "execution_count": 39,
   "id": "3755774f",
   "metadata": {},
   "outputs": [
    {
     "data": {
      "text/plain": [
       "Average    169\n",
       "High        37\n",
       "Low         18\n",
       "Name: coapplicant_income_groups, dtype: int64"
      ]
     },
     "execution_count": 39,
     "metadata": {},
     "output_type": "execute_result"
    }
   ],
   "source": [
    "bins = [0,1000,3000,4200]\n",
    "groups = ['Low', 'Average', 'High']\n",
    "data['coapplicant_income_groups'] = pd.cut(df['CoapplicantIncome'],bins,labels=groups)\n",
    "data['coapplicant_income_groups'].value_counts()"
   ]
  },
  {
   "cell_type": "code",
   "execution_count": 40,
   "id": "d085d32c",
   "metadata": {},
   "outputs": [
    {
     "data": {
      "image/png": "[encoded data removed]",
      "text/plain": [
       "<Figure size 432x360 with 1 Axes>"
      ]
     },
     "metadata": {},
     "output_type": "display_data"
    }
   ],
   "source": [
    "Coapplicant_income_groups = pd.crosstab(index=data['coapplicant_income_groups'],columns=data['Loan_Status'])\n",
    "Coapplicant_income_groups.div(Coapplicant_income_groups.sum(1).astype(float),axis=0).plot(kind='bar',stacked=True,figsize=(6,5))\n",
    "plt.xlabel('CoapplicantIncome')\n",
    "plt.ylabel('Percentage')\n",
    "plt.legend(loc='upper left',bbox_to_anchor=(1,1),title='Loan_Status')\n",
    "plt.show()"
   ]
  },
  {
   "cell_type": "markdown",
   "id": "a27ee057",
   "metadata": {},
   "source": [
    "---\n",
    "### It shows that if appliceant's income is less then chances of loan approval is high. But this does not look right. The possible reason behind this may be that most of the applicants don't have any coapplicant so the coapplicant income for such applicants is 0 and hence the loan approval is not dependent on it. So we can make a new variable in which we will combine the applicant's and coapplicant's income to visualize the combined effect of income on loan approval."
   ]
  },
  {
   "cell_type": "code",
   "execution_count": 41,
   "id": "6d2c7b6f",
   "metadata": {},
   "outputs": [],
   "source": [
    "data['Total_Income'] = data['ApplicantIncome'] + data['CoapplicantIncome']"
   ]
  },
  {
   "cell_type": "code",
   "execution_count": 42,
   "id": "da909d86",
   "metadata": {},
   "outputs": [
    {
     "data": {
      "image/png": "[encoded data removed]",
      "text/plain": [
       "<Figure size 432x360 with 1 Axes>"
      ]
     },
     "metadata": {},
     "output_type": "display_data"
    }
   ],
   "source": [
    "bins=[0,2500,4000,6000,81000]\n",
    "group=['Low','Average','High','Very high']\n",
    "data['Total_Income_groups']=pd.cut(data['Total_Income'],bins,labels=group)\n",
    "Total_Income_groups=pd.crosstab(index=data['Total_Income_groups'],columns=data['Loan_Status'])\n",
    "Total_Income_groups.div(Total_Income_groups.sum(1).astype(float), axis=0).plot(kind='bar', stacked=True,figsize=(6,5))\n",
    "plt.xlabel('Total_Income') \n",
    "P = plt.ylabel('Percentage')\n",
    "plt.legend(loc='upper left',bbox_to_anchor=(1,1),title='Loan_Status')\n",
    "plt.show()"
   ]
  },
  {
   "cell_type": "markdown",
   "id": "6731c299",
   "metadata": {},
   "source": [
    "---\n",
    "### We can now see that proportion of loans getting approved for applicants having low Total_Income is very less as compared to that of applicants with Average, High and Very High Income."
   ]
  },
  {
   "cell_type": "markdown",
   "id": "291c8a72",
   "metadata": {},
   "source": [
    "## LoanAmount vs Loan_Status"
   ]
  },
  {
   "cell_type": "code",
   "execution_count": 43,
   "id": "24a5bd53",
   "metadata": {},
   "outputs": [
    {
     "data": {
      "text/plain": [
       "22"
      ]
     },
     "execution_count": 43,
     "metadata": {},
     "output_type": "execute_result"
    }
   ],
   "source": [
    "data['LoanAmount'].isnull().sum()"
   ]
  },
  {
   "cell_type": "code",
   "execution_count": 44,
   "id": "f63c7f51",
   "metadata": {},
   "outputs": [
    {
     "data": {
      "text/plain": [
       "count    592.000000\n",
       "mean     146.412162\n",
       "std       85.587325\n",
       "min        9.000000\n",
       "25%      100.000000\n",
       "50%      128.000000\n",
       "75%      168.000000\n",
       "max      700.000000\n",
       "Name: LoanAmount, dtype: float64"
      ]
     },
     "execution_count": 44,
     "metadata": {},
     "output_type": "execute_result"
    }
   ],
   "source": [
    "data['LoanAmount'].describe()"
   ]
  },
  {
   "cell_type": "code",
   "execution_count": 45,
   "id": "e4179e6f",
   "metadata": {},
   "outputs": [
    {
     "data": {
      "image/png": "[encoded data removed]",
      "text/plain": [
       "<Figure size 432x360 with 1 Axes>"
      ]
     },
     "metadata": {},
     "output_type": "display_data"
    }
   ],
   "source": [
    "bins=[0,100,200,700]\n",
    "groups=['Low','Average','High']\n",
    "data['LoanAmount_groups'] = pd.cut(x=df['LoanAmount'],bins=bins,labels=groups)\n",
    "LoanAmount_groups = pd.crosstab(index=data['LoanAmount_groups'],columns=data['Loan_Status'])\n",
    "LoanAmount_groups.div(LoanAmount_groups.sum(1).astype(float),axis=0).plot(kind='bar',stacked=True,figsize=(6,5))\n",
    "plt.legend(loc='upper left',bbox_to_anchor=(1,1),title='Loan_Status')\n",
    "plt.xlabel('LoanAmount')\n",
    "p=plt.ylabel('Percentage')\n",
    "plt.show()"
   ]
  },
  {
   "cell_type": "markdown",
   "id": "d1505236",
   "metadata": {},
   "source": [
    "---\n",
    "### It can be inferred that the proportions of Loan Approval is higher for the Low & Average Loan Amount as compared to higher Loan Amount which supports our hypothesis in which we considered that the chances of loan approval will be high when the loan amount is less.\n",
    "---"
   ]
  },
  {
   "cell_type": "markdown",
   "id": "1c2f7a70",
   "metadata": {},
   "source": [
    "# Data Cleaning and Preparation"
   ]
  },
  {
   "cell_type": "code",
   "execution_count": 46,
   "id": "838045c7",
   "metadata": {},
   "outputs": [
    {
     "data": {
      "text/plain": [
       "Index(['Loan_ID', 'Gender', 'Married', 'Dependents', 'Education',\n",
       "       'Self_Employed', 'ApplicantIncome', 'CoapplicantIncome', 'LoanAmount',\n",
       "       'Loan_Amount_Term', 'Credit_History', 'Property_Area', 'Loan_Status',\n",
       "       'Income_groups', 'coapplicant_income_groups', 'Total_Income',\n",
       "       'Total_Income_groups', 'LoanAmount_groups'],\n",
       "      dtype='object')"
      ]
     },
     "execution_count": 46,
     "metadata": {},
     "output_type": "execute_result"
    }
   ],
   "source": [
    "data.columns"
   ]
  },
  {
   "cell_type": "code",
   "execution_count": 47,
   "id": "81ce678c",
   "metadata": {},
   "outputs": [],
   "source": [
    "data = data.drop(labels=['Income_groups', 'coapplicant_income_groups','Total_Income','Total_Income_groups','LoanAmount_groups'],axis=1)"
   ]
  },
  {
   "cell_type": "code",
   "execution_count": 48,
   "id": "4b52804b",
   "metadata": {},
   "outputs": [
    {
     "data": {
      "text/html": [
       "<div>\n",
       "<style scoped>\n",
       "    .dataframe tbody tr th:only-of-type {\n",
       "        vertical-align: middle;\n",
       "    }\n",
       "\n",
       "    .dataframe tbody tr th {\n",
       "        vertical-align: top;\n",
       "    }\n",
       "\n",
       "    .dataframe thead th {\n",
       "        text-align: right;\n",
       "    }\n",
       "</style>\n",
       "<table border=\"1\" class=\"dataframe\">\n",
       "  <thead>\n",
       "    <tr style=\"text-align: right;\">\n",
       "      <th></th>\n",
       "      <th>Loan_ID</th>\n",
       "      <th>Gender</th>\n",
       "      <th>Married</th>\n",
       "      <th>Dependents</th>\n",
       "      <th>Education</th>\n",
       "      <th>Self_Employed</th>\n",
       "      <th>ApplicantIncome</th>\n",
       "      <th>CoapplicantIncome</th>\n",
       "      <th>LoanAmount</th>\n",
       "      <th>Loan_Amount_Term</th>\n",
       "      <th>Credit_History</th>\n",
       "      <th>Property_Area</th>\n",
       "      <th>Loan_Status</th>\n",
       "    </tr>\n",
       "  </thead>\n",
       "  <tbody>\n",
       "    <tr>\n",
       "      <th>0</th>\n",
       "      <td>LP001002</td>\n",
       "      <td>Male</td>\n",
       "      <td>No</td>\n",
       "      <td>0</td>\n",
       "      <td>Graduate</td>\n",
       "      <td>No</td>\n",
       "      <td>5849</td>\n",
       "      <td>0.0</td>\n",
       "      <td>NaN</td>\n",
       "      <td>360.0</td>\n",
       "      <td>1.0</td>\n",
       "      <td>Urban</td>\n",
       "      <td>Y</td>\n",
       "    </tr>\n",
       "    <tr>\n",
       "      <th>1</th>\n",
       "      <td>LP001003</td>\n",
       "      <td>Male</td>\n",
       "      <td>Yes</td>\n",
       "      <td>1</td>\n",
       "      <td>Graduate</td>\n",
       "      <td>No</td>\n",
       "      <td>4583</td>\n",
       "      <td>1508.0</td>\n",
       "      <td>128.0</td>\n",
       "      <td>360.0</td>\n",
       "      <td>1.0</td>\n",
       "      <td>Rural</td>\n",
       "      <td>N</td>\n",
       "    </tr>\n",
       "    <tr>\n",
       "      <th>2</th>\n",
       "      <td>LP001005</td>\n",
       "      <td>Male</td>\n",
       "      <td>Yes</td>\n",
       "      <td>0</td>\n",
       "      <td>Graduate</td>\n",
       "      <td>Yes</td>\n",
       "      <td>3000</td>\n",
       "      <td>0.0</td>\n",
       "      <td>66.0</td>\n",
       "      <td>360.0</td>\n",
       "      <td>1.0</td>\n",
       "      <td>Urban</td>\n",
       "      <td>Y</td>\n",
       "    </tr>\n",
       "    <tr>\n",
       "      <th>3</th>\n",
       "      <td>LP001006</td>\n",
       "      <td>Male</td>\n",
       "      <td>Yes</td>\n",
       "      <td>0</td>\n",
       "      <td>Not Graduate</td>\n",
       "      <td>No</td>\n",
       "      <td>2583</td>\n",
       "      <td>2358.0</td>\n",
       "      <td>120.0</td>\n",
       "      <td>360.0</td>\n",
       "      <td>1.0</td>\n",
       "      <td>Urban</td>\n",
       "      <td>Y</td>\n",
       "    </tr>\n",
       "    <tr>\n",
       "      <th>4</th>\n",
       "      <td>LP001008</td>\n",
       "      <td>Male</td>\n",
       "      <td>No</td>\n",
       "      <td>0</td>\n",
       "      <td>Graduate</td>\n",
       "      <td>No</td>\n",
       "      <td>6000</td>\n",
       "      <td>0.0</td>\n",
       "      <td>141.0</td>\n",
       "      <td>360.0</td>\n",
       "      <td>1.0</td>\n",
       "      <td>Urban</td>\n",
       "      <td>Y</td>\n",
       "    </tr>\n",
       "  </tbody>\n",
       "</table>\n",
       "</div>"
      ],
      "text/plain": [
       "    Loan_ID Gender Married Dependents     Education Self_Employed  \\\n",
       "0  LP001002   Male      No          0      Graduate            No   \n",
       "1  LP001003   Male     Yes          1      Graduate            No   \n",
       "2  LP001005   Male     Yes          0      Graduate           Yes   \n",
       "3  LP001006   Male     Yes          0  Not Graduate            No   \n",
       "4  LP001008   Male      No          0      Graduate            No   \n",
       "\n",
       "   ApplicantIncome  CoapplicantIncome  LoanAmount  Loan_Amount_Term  \\\n",
       "0             5849                0.0         NaN             360.0   \n",
       "1             4583             1508.0       128.0             360.0   \n",
       "2             3000                0.0        66.0             360.0   \n",
       "3             2583             2358.0       120.0             360.0   \n",
       "4             6000                0.0       141.0             360.0   \n",
       "\n",
       "   Credit_History Property_Area Loan_Status  \n",
       "0             1.0         Urban           Y  \n",
       "1             1.0         Rural           N  \n",
       "2             1.0         Urban           Y  \n",
       "3             1.0         Urban           Y  \n",
       "4             1.0         Urban           Y  "
      ]
     },
     "execution_count": 48,
     "metadata": {},
     "output_type": "execute_result"
    }
   ],
   "source": [
    "data.head()"
   ]
  },
  {
   "cell_type": "markdown",
   "id": "99c9948c",
   "metadata": {},
   "source": [
    "### We will change the values '3+' in 'Dependents' variable to 3 to make it a numerical variable. We will make this change in both train and test sets."
   ]
  },
  {
   "cell_type": "code",
   "execution_count": 49,
   "id": "c343e8b0",
   "metadata": {},
   "outputs": [
    {
     "data": {
      "text/plain": [
       "0     345\n",
       "1     102\n",
       "2     101\n",
       "3+     51\n",
       "Name: Dependents, dtype: int64"
      ]
     },
     "execution_count": 49,
     "metadata": {},
     "output_type": "execute_result"
    }
   ],
   "source": [
    "data['Dependents'].value_counts()"
   ]
  },
  {
   "cell_type": "code",
   "execution_count": 50,
   "id": "f7a29f89",
   "metadata": {},
   "outputs": [],
   "source": [
    "# data['Dependents'].replace('3+',3,inplace=True)"
   ]
  },
  {
   "cell_type": "code",
   "execution_count": 51,
   "id": "595e4111",
   "metadata": {},
   "outputs": [
    {
     "data": {
      "text/plain": [
       "0     345\n",
       "1     102\n",
       "2     101\n",
       "3+     51\n",
       "Name: Dependents, dtype: int64"
      ]
     },
     "execution_count": 51,
     "metadata": {},
     "output_type": "execute_result"
    }
   ],
   "source": [
    "data['Dependents'].value_counts()"
   ]
  },
  {
   "cell_type": "markdown",
   "id": "a60aeb4f",
   "metadata": {},
   "source": [
    "### We will convert target variable's ('Loan Status') categories into 0 and 1 so that we can find its correlation with numerical varibales\n",
    "\n",
    "- We will replace N with 0 and Y with 1.\n"
   ]
  },
  {
   "cell_type": "code",
   "execution_count": 52,
   "id": "8e9e0e0b",
   "metadata": {},
   "outputs": [],
   "source": [
    "data['Loan_Status'].replace('N',0,inplace=True)\n",
    "data['Loan_Status'].replace('Y',1,inplace=True)"
   ]
  },
  {
   "cell_type": "code",
   "execution_count": 53,
   "id": "e025d3b2",
   "metadata": {},
   "outputs": [
    {
     "data": {
      "text/plain": [
       "1    422\n",
       "0    192\n",
       "Name: Loan_Status, dtype: int64"
      ]
     },
     "execution_count": 53,
     "metadata": {},
     "output_type": "execute_result"
    }
   ],
   "source": [
    "data['Loan_Status'].value_counts()"
   ]
  },
  {
   "cell_type": "code",
   "execution_count": 54,
   "id": "4f5cecf9",
   "metadata": {},
   "outputs": [
    {
     "data": {
      "text/plain": [
       "Loan_ID               object\n",
       "Gender                object\n",
       "Married               object\n",
       "Dependents            object\n",
       "Education             object\n",
       "Self_Employed         object\n",
       "ApplicantIncome        int64\n",
       "CoapplicantIncome    float64\n",
       "LoanAmount           float64\n",
       "Loan_Amount_Term     float64\n",
       "Credit_History       float64\n",
       "Property_Area         object\n",
       "Loan_Status            int64\n",
       "dtype: object"
      ]
     },
     "execution_count": 54,
     "metadata": {},
     "output_type": "execute_result"
    }
   ],
   "source": [
    "data.dtypes"
   ]
  },
  {
   "cell_type": "markdown",
   "id": "9436448d",
   "metadata": {},
   "source": [
    "## Correlation between all the Numeric Variables.\n",
    "- Heatmap is used to visualize the correlation"
   ]
  },
  {
   "cell_type": "code",
   "execution_count": 55,
   "id": "bb46be72",
   "metadata": {},
   "outputs": [
    {
     "data": {
      "text/html": [
       "<div>\n",
       "<style scoped>\n",
       "    .dataframe tbody tr th:only-of-type {\n",
       "        vertical-align: middle;\n",
       "    }\n",
       "\n",
       "    .dataframe tbody tr th {\n",
       "        vertical-align: top;\n",
       "    }\n",
       "\n",
       "    .dataframe thead th {\n",
       "        text-align: right;\n",
       "    }\n",
       "</style>\n",
       "<table border=\"1\" class=\"dataframe\">\n",
       "  <thead>\n",
       "    <tr style=\"text-align: right;\">\n",
       "      <th></th>\n",
       "      <th>ApplicantIncome</th>\n",
       "      <th>CoapplicantIncome</th>\n",
       "      <th>LoanAmount</th>\n",
       "      <th>Loan_Amount_Term</th>\n",
       "      <th>Credit_History</th>\n",
       "      <th>Loan_Status</th>\n",
       "    </tr>\n",
       "  </thead>\n",
       "  <tbody>\n",
       "    <tr>\n",
       "      <th>ApplicantIncome</th>\n",
       "      <td>1.000000</td>\n",
       "      <td>-0.116605</td>\n",
       "      <td>0.570909</td>\n",
       "      <td>-0.045306</td>\n",
       "      <td>-0.014715</td>\n",
       "      <td>-0.004710</td>\n",
       "    </tr>\n",
       "    <tr>\n",
       "      <th>CoapplicantIncome</th>\n",
       "      <td>-0.116605</td>\n",
       "      <td>1.000000</td>\n",
       "      <td>0.188619</td>\n",
       "      <td>-0.059878</td>\n",
       "      <td>-0.002056</td>\n",
       "      <td>-0.059187</td>\n",
       "    </tr>\n",
       "    <tr>\n",
       "      <th>LoanAmount</th>\n",
       "      <td>0.570909</td>\n",
       "      <td>0.188619</td>\n",
       "      <td>1.000000</td>\n",
       "      <td>0.039447</td>\n",
       "      <td>-0.008433</td>\n",
       "      <td>-0.037318</td>\n",
       "    </tr>\n",
       "    <tr>\n",
       "      <th>Loan_Amount_Term</th>\n",
       "      <td>-0.045306</td>\n",
       "      <td>-0.059878</td>\n",
       "      <td>0.039447</td>\n",
       "      <td>1.000000</td>\n",
       "      <td>0.001470</td>\n",
       "      <td>-0.021268</td>\n",
       "    </tr>\n",
       "    <tr>\n",
       "      <th>Credit_History</th>\n",
       "      <td>-0.014715</td>\n",
       "      <td>-0.002056</td>\n",
       "      <td>-0.008433</td>\n",
       "      <td>0.001470</td>\n",
       "      <td>1.000000</td>\n",
       "      <td>0.561678</td>\n",
       "    </tr>\n",
       "    <tr>\n",
       "      <th>Loan_Status</th>\n",
       "      <td>-0.004710</td>\n",
       "      <td>-0.059187</td>\n",
       "      <td>-0.037318</td>\n",
       "      <td>-0.021268</td>\n",
       "      <td>0.561678</td>\n",
       "      <td>1.000000</td>\n",
       "    </tr>\n",
       "  </tbody>\n",
       "</table>\n",
       "</div>"
      ],
      "text/plain": [
       "                   ApplicantIncome  CoapplicantIncome  LoanAmount  \\\n",
       "ApplicantIncome           1.000000          -0.116605    0.570909   \n",
       "CoapplicantIncome        -0.116605           1.000000    0.188619   \n",
       "LoanAmount                0.570909           0.188619    1.000000   \n",
       "Loan_Amount_Term         -0.045306          -0.059878    0.039447   \n",
       "Credit_History           -0.014715          -0.002056   -0.008433   \n",
       "Loan_Status              -0.004710          -0.059187   -0.037318   \n",
       "\n",
       "                   Loan_Amount_Term  Credit_History  Loan_Status  \n",
       "ApplicantIncome           -0.045306       -0.014715    -0.004710  \n",
       "CoapplicantIncome         -0.059878       -0.002056    -0.059187  \n",
       "LoanAmount                 0.039447       -0.008433    -0.037318  \n",
       "Loan_Amount_Term           1.000000        0.001470    -0.021268  \n",
       "Credit_History             0.001470        1.000000     0.561678  \n",
       "Loan_Status               -0.021268        0.561678     1.000000  "
      ]
     },
     "execution_count": 55,
     "metadata": {},
     "output_type": "execute_result"
    }
   ],
   "source": [
    "data.corr()"
   ]
  },
  {
   "cell_type": "code",
   "execution_count": 56,
   "id": "01c9ddd2",
   "metadata": {},
   "outputs": [
    {
     "data": {
      "text/plain": [
       "<AxesSubplot:>"
      ]
     },
     "execution_count": 56,
     "metadata": {},
     "output_type": "execute_result"
    },
    {
     "data": {
      "image/png": "[encoded data removed]",
      "text/plain": [
       "<Figure size 432x288 with 2 Axes>"
      ]
     },
     "metadata": {},
     "output_type": "display_data"
    }
   ],
   "source": [
    "sns.heatmap(data=data.corr(),square=False,cmap='BuPu')"
   ]
  },
  {
   "cell_type": "markdown",
   "id": "c5b9a2a7",
   "metadata": {},
   "source": [
    "### It can be infered that the most correlated variables are (ApplicantIncome - LoanAmount) and (Credit_History - Loan_Status). LoanAmount is correlated with CoapplicantIncome.\n",
    "\n",
    "We can now impute the missing values and treat the outliers because missing data and outliers can have adverse effect on the model performance."
   ]
  },
  {
   "cell_type": "code",
   "execution_count": 57,
   "id": "5e97c53d",
   "metadata": {},
   "outputs": [
    {
     "data": {
      "text/plain": [
       "Loan_ID               0\n",
       "Gender               13\n",
       "Married               3\n",
       "Dependents           15\n",
       "Education             0\n",
       "Self_Employed        32\n",
       "ApplicantIncome       0\n",
       "CoapplicantIncome     0\n",
       "LoanAmount           22\n",
       "Loan_Amount_Term     14\n",
       "Credit_History       50\n",
       "Property_Area         0\n",
       "Loan_Status           0\n",
       "dtype: int64"
      ]
     },
     "execution_count": 57,
     "metadata": {},
     "output_type": "execute_result"
    }
   ],
   "source": [
    "data.isnull().sum()"
   ]
  },
  {
   "cell_type": "markdown",
   "id": "c70cb07b",
   "metadata": {},
   "source": [
    "There are missing values in many columns. \n",
    "We can consider following methods to fill the missing values\n",
    "\n",
    "- For numerical variables: imputation using mean or median\n",
    "- For categorical variables: imputation using mode"
   ]
  },
  {
   "cell_type": "code",
   "execution_count": 58,
   "id": "5bcd71db",
   "metadata": {},
   "outputs": [
    {
     "data": {
      "text/plain": [
       "Loan_ID               object\n",
       "Gender                object\n",
       "Married               object\n",
       "Dependents            object\n",
       "Education             object\n",
       "Self_Employed         object\n",
       "ApplicantIncome        int64\n",
       "CoapplicantIncome    float64\n",
       "LoanAmount           float64\n",
       "Loan_Amount_Term     float64\n",
       "Credit_History       float64\n",
       "Property_Area         object\n",
       "Loan_Status            int64\n",
       "dtype: object"
      ]
     },
     "execution_count": 58,
     "metadata": {},
     "output_type": "execute_result"
    }
   ],
   "source": [
    "data.dtypes"
   ]
  },
  {
   "cell_type": "code",
   "execution_count": 59,
   "id": "6478353f",
   "metadata": {},
   "outputs": [
    {
     "data": {
      "text/plain": [
       "count      601\n",
       "unique       2\n",
       "top       Male\n",
       "freq       489\n",
       "Name: Gender, dtype: object"
      ]
     },
     "execution_count": 59,
     "metadata": {},
     "output_type": "execute_result"
    }
   ],
   "source": [
    "data['Gender'].describe()"
   ]
  },
  {
   "cell_type": "code",
   "execution_count": 60,
   "id": "f14d4d49",
   "metadata": {},
   "outputs": [
    {
     "data": {
      "text/plain": [
       "0    Male\n",
       "dtype: object"
      ]
     },
     "execution_count": 60,
     "metadata": {},
     "output_type": "execute_result"
    }
   ],
   "source": [
    "data['Gender'].mode()"
   ]
  },
  {
   "cell_type": "code",
   "execution_count": 61,
   "id": "6de6506d",
   "metadata": {},
   "outputs": [
    {
     "data": {
      "text/plain": [
       "'Male'"
      ]
     },
     "execution_count": 61,
     "metadata": {},
     "output_type": "execute_result"
    }
   ],
   "source": [
    "data['Gender'].mode()[0]"
   ]
  },
  {
   "cell_type": "code",
   "execution_count": 62,
   "id": "345e6937",
   "metadata": {},
   "outputs": [],
   "source": [
    "# imputing the missing values using the mode of gender features\n",
    "data['Gender'].fillna(value=data['Gender'].mode()[0],inplace=True)"
   ]
  },
  {
   "cell_type": "code",
   "execution_count": 63,
   "id": "09cafe68",
   "metadata": {},
   "outputs": [
    {
     "data": {
      "text/plain": [
       "0"
      ]
     },
     "execution_count": 63,
     "metadata": {},
     "output_type": "execute_result"
    }
   ],
   "source": [
    "# after imputation\n",
    "data['Gender'].isnull().sum()"
   ]
  },
  {
   "cell_type": "code",
   "execution_count": 64,
   "id": "3dbcb62f",
   "metadata": {},
   "outputs": [
    {
     "data": {
      "text/plain": [
       "count      614\n",
       "unique       2\n",
       "top       Male\n",
       "freq       502\n",
       "Name: Gender, dtype: object"
      ]
     },
     "execution_count": 64,
     "metadata": {},
     "output_type": "execute_result"
    }
   ],
   "source": [
    "# check the value_counts and unique count\n",
    "data['Gender'].describe()"
   ]
  },
  {
   "cell_type": "markdown",
   "id": "5327a832",
   "metadata": {},
   "source": [
    "#### Similarly we impute missing values with mode for others"
   ]
  },
  {
   "cell_type": "code",
   "execution_count": 65,
   "id": "87c26776",
   "metadata": {},
   "outputs": [],
   "source": [
    "data['Married'].fillna(data['Married'].mode()[0],inplace= True)\n",
    "data['Dependents'].fillna(data['Dependents'].mode()[0],inplace= True)\n",
    "data['Self_Employed'].fillna(data['Self_Employed'].mode()[0],inplace= True)"
   ]
  },
  {
   "cell_type": "markdown",
   "id": "e2fdbccb",
   "metadata": {},
   "source": [
    "#### Although the credit_history is a numeric feature but the values in it are binary (1 or 0), so we will use the \"mode\" to imput these values"
   ]
  },
  {
   "cell_type": "code",
   "execution_count": 66,
   "id": "e802cb06",
   "metadata": {},
   "outputs": [
    {
     "data": {
      "text/plain": [
       "1.0    475\n",
       "0.0     89\n",
       "Name: Credit_History, dtype: int64"
      ]
     },
     "execution_count": 66,
     "metadata": {},
     "output_type": "execute_result"
    }
   ],
   "source": [
    "data['Credit_History'].value_counts()"
   ]
  },
  {
   "cell_type": "code",
   "execution_count": 67,
   "id": "891b38c8",
   "metadata": {},
   "outputs": [
    {
     "data": {
      "text/plain": [
       "1.0"
      ]
     },
     "execution_count": 67,
     "metadata": {},
     "output_type": "execute_result"
    }
   ],
   "source": [
    "data['Credit_History'].mode()[0]"
   ]
  },
  {
   "cell_type": "code",
   "execution_count": 68,
   "id": "fc43db80",
   "metadata": {},
   "outputs": [],
   "source": [
    "data['Credit_History'].fillna(data['Credit_History'].mode()[0],inplace=True)"
   ]
  },
  {
   "cell_type": "markdown",
   "id": "23cbd750",
   "metadata": {},
   "source": [
    "### Now we wil impute the missing values for the numeric features 'LoaAmount'and 'Loan_Amount_Term'."
   ]
  },
  {
   "cell_type": "code",
   "execution_count": 69,
   "id": "393e5ccf",
   "metadata": {},
   "outputs": [
    {
     "data": {
      "text/plain": [
       "Loan_ID               0\n",
       "Gender                0\n",
       "Married               0\n",
       "Dependents            0\n",
       "Education             0\n",
       "Self_Employed         0\n",
       "ApplicantIncome       0\n",
       "CoapplicantIncome     0\n",
       "LoanAmount           22\n",
       "Loan_Amount_Term     14\n",
       "Credit_History        0\n",
       "Property_Area         0\n",
       "Loan_Status           0\n",
       "dtype: int64"
      ]
     },
     "execution_count": 69,
     "metadata": {},
     "output_type": "execute_result"
    }
   ],
   "source": [
    "data.isna().sum()"
   ]
  },
  {
   "cell_type": "code",
   "execution_count": 70,
   "id": "7dbbdd38",
   "metadata": {},
   "outputs": [
    {
     "data": {
      "text/plain": [
       "360.0    512\n",
       "180.0     44\n",
       "480.0     15\n",
       "300.0     13\n",
       "84.0       4\n",
       "240.0      4\n",
       "120.0      3\n",
       "36.0       2\n",
       "60.0       2\n",
       "12.0       1\n",
       "Name: Loan_Amount_Term, dtype: int64"
      ]
     },
     "execution_count": 70,
     "metadata": {},
     "output_type": "execute_result"
    }
   ],
   "source": [
    "data['Loan_Amount_Term'].value_counts()"
   ]
  },
  {
   "cell_type": "markdown",
   "id": "0f913585",
   "metadata": {},
   "source": [
    "#### We can seen that the value of 360 is repeating the most in Loan_Amount_Term variable, so we will use the mode of this variable to replace the missing values."
   ]
  },
  {
   "cell_type": "code",
   "execution_count": 71,
   "id": "c87c5030",
   "metadata": {},
   "outputs": [],
   "source": [
    "data['Loan_Amount_Term'].fillna(data['Loan_Amount_Term'].mode()[0],inplace=True)"
   ]
  },
  {
   "cell_type": "code",
   "execution_count": 72,
   "id": "2d452e82",
   "metadata": {},
   "outputs": [
    {
     "data": {
      "text/plain": [
       "120.0    20\n",
       "110.0    17\n",
       "100.0    15\n",
       "160.0    12\n",
       "187.0    12\n",
       "         ..\n",
       "211.0     1\n",
       "250.0     1\n",
       "62.0      1\n",
       "85.0      1\n",
       "436.0     1\n",
       "Name: LoanAmount, Length: 203, dtype: int64"
      ]
     },
     "execution_count": 72,
     "metadata": {},
     "output_type": "execute_result"
    }
   ],
   "source": [
    "data['LoanAmount'].value_counts()"
   ]
  },
  {
   "cell_type": "markdown",
   "id": "87b18b57",
   "metadata": {},
   "source": [
    "### We can see that the 'LoanAmount' feature is highly affected by the presence of lot of outliers, so replacing the missing values by the mean() of the feature will not be the correct approach here.\n",
    "\n",
    "### Thus to impute these missing values we will use the median() of the feature."
   ]
  },
  {
   "cell_type": "code",
   "execution_count": 73,
   "id": "4f4480e7",
   "metadata": {},
   "outputs": [
    {
     "data": {
      "text/plain": [
       "128.0"
      ]
     },
     "execution_count": 73,
     "metadata": {},
     "output_type": "execute_result"
    }
   ],
   "source": [
    "data['LoanAmount'].median()"
   ]
  },
  {
   "cell_type": "code",
   "execution_count": 74,
   "id": "fc242e6f",
   "metadata": {},
   "outputs": [],
   "source": [
    "data['LoanAmount'].fillna(data['LoanAmount'].median(),inplace=True)"
   ]
  },
  {
   "cell_type": "code",
   "execution_count": 75,
   "id": "e940171b",
   "metadata": {},
   "outputs": [
    {
     "data": {
      "text/plain": [
       "Loan_ID              0\n",
       "Gender               0\n",
       "Married              0\n",
       "Dependents           0\n",
       "Education            0\n",
       "Self_Employed        0\n",
       "ApplicantIncome      0\n",
       "CoapplicantIncome    0\n",
       "LoanAmount           0\n",
       "Loan_Amount_Term     0\n",
       "Credit_History       0\n",
       "Property_Area        0\n",
       "Loan_Status          0\n",
       "dtype: int64"
      ]
     },
     "execution_count": 75,
     "metadata": {},
     "output_type": "execute_result"
    }
   ],
   "source": [
    "data.isnull().sum()"
   ]
  },
  {
   "cell_type": "markdown",
   "id": "ff34d301",
   "metadata": {},
   "source": [
    "## Similarly lets clean the test data"
   ]
  },
  {
   "cell_type": "code",
   "execution_count": 76,
   "id": "80284768",
   "metadata": {},
   "outputs": [],
   "source": [
    "test_data = pd.read_csv('test.csv')"
   ]
  },
  {
   "cell_type": "code",
   "execution_count": 77,
   "id": "45cd5feb",
   "metadata": {},
   "outputs": [
    {
     "name": "stdout",
     "output_type": "stream",
     "text": [
      "SHAPE OF THE DATA: \n",
      "(367, 12)\n",
      "------------------------------------------------------------------------------------------\n",
      "INFORMATION OF THE DATA: \n",
      "<class 'pandas.core.frame.DataFrame'>\n",
      "RangeIndex: 367 entries, 0 to 366\n",
      "Data columns (total 12 columns):\n",
      " #   Column             Non-Null Count  Dtype  \n",
      "---  ------             --------------  -----  \n",
      " 0   Loan_ID            367 non-null    object \n",
      " 1   Gender             356 non-null    object \n",
      " 2   Married            367 non-null    object \n",
      " 3   Dependents         357 non-null    object \n",
      " 4   Education          367 non-null    object \n",
      " 5   Self_Employed      344 non-null    object \n",
      " 6   ApplicantIncome    367 non-null    int64  \n",
      " 7   CoapplicantIncome  367 non-null    int64  \n",
      " 8   LoanAmount         362 non-null    float64\n",
      " 9   Loan_Amount_Term   361 non-null    float64\n",
      " 10  Credit_History     338 non-null    float64\n",
      " 11  Property_Area      367 non-null    object \n",
      "dtypes: float64(3), int64(2), object(7)\n",
      "memory usage: 34.5+ KB\n",
      "None\n",
      "------------------------------------------------------------------------------------------\n",
      "NUMBER OF NULL VALUES PRESENT IN THE DATA: \n",
      "Loan_ID               0\n",
      "Gender               11\n",
      "Married               0\n",
      "Dependents           10\n",
      "Education             0\n",
      "Self_Employed        23\n",
      "ApplicantIncome       0\n",
      "CoapplicantIncome     0\n",
      "LoanAmount            5\n",
      "Loan_Amount_Term      6\n",
      "Credit_History       29\n",
      "Property_Area         0\n",
      "dtype: int64\n",
      "------------------------------------------------------------------------------------------\n",
      "COLUMN NAMES OF THE DATA: \n",
      "Index(['Loan_ID', 'Gender', 'Married', 'Dependents', 'Education',\n",
      "       'Self_Employed', 'ApplicantIncome', 'CoapplicantIncome', 'LoanAmount',\n",
      "       'Loan_Amount_Term', 'Credit_History', 'Property_Area'],\n",
      "      dtype='object')\n",
      "------------------------------------------------------------------------------------------\n"
     ]
    }
   ],
   "source": [
    "# Quick overview of the data (we made a function for that)\n",
    "data_feature(test_data)"
   ]
  },
  {
   "cell_type": "code",
   "execution_count": 78,
   "id": "55cb53de",
   "metadata": {},
   "outputs": [],
   "source": [
    "# data_feature(data)"
   ]
  },
  {
   "cell_type": "code",
   "execution_count": 79,
   "id": "3d26bd9a",
   "metadata": {},
   "outputs": [
    {
     "data": {
      "text/plain": [
       "Loan_ID               0\n",
       "Gender               11\n",
       "Married               0\n",
       "Dependents           10\n",
       "Education             0\n",
       "Self_Employed        23\n",
       "ApplicantIncome       0\n",
       "CoapplicantIncome     0\n",
       "LoanAmount            5\n",
       "Loan_Amount_Term      6\n",
       "Credit_History       29\n",
       "Property_Area         0\n",
       "dtype: int64"
      ]
     },
     "execution_count": 79,
     "metadata": {},
     "output_type": "execute_result"
    }
   ],
   "source": [
    "test_data.isna().sum()"
   ]
  },
  {
   "cell_type": "code",
   "execution_count": 80,
   "id": "af980418",
   "metadata": {},
   "outputs": [],
   "source": [
    "# cleaning the test data\n",
    "test_data['Dependents'].replace('3+',3,inplace=True)\n",
    "test_data['Gender'].fillna(data['Gender'].mode()[0],inplace=True)\n",
    "test_data['Dependents'].fillna(data['Dependents'].mode()[0],inplace=True)\n",
    "test_data['Self_Employed'].fillna(data['Self_Employed'].mode()[0],inplace=True)\n",
    "test_data['Credit_History'].fillna(data['Credit_History'].mode()[0],inplace=True)\n",
    "test_data['Loan_Amount_Term'].fillna(data['Loan_Amount_Term'].mode()[0],inplace=True)\n",
    "test_data['LoanAmount'].fillna(data['LoanAmount'].mode()[0],inplace=True)"
   ]
  },
  {
   "cell_type": "code",
   "execution_count": 81,
   "id": "124758e4",
   "metadata": {},
   "outputs": [
    {
     "data": {
      "text/plain": [
       "Loan_ID              0\n",
       "Gender               0\n",
       "Married              0\n",
       "Dependents           0\n",
       "Education            0\n",
       "Self_Employed        0\n",
       "ApplicantIncome      0\n",
       "CoapplicantIncome    0\n",
       "LoanAmount           0\n",
       "Loan_Amount_Term     0\n",
       "Credit_History       0\n",
       "Property_Area        0\n",
       "dtype: int64"
      ]
     },
     "execution_count": 81,
     "metadata": {},
     "output_type": "execute_result"
    }
   ],
   "source": [
    "test_data.isnull().sum()"
   ]
  },
  {
   "cell_type": "markdown",
   "id": "fde3ebd8",
   "metadata": {},
   "source": [
    "## Handling Outliers\n",
    "---\n",
    "Presence of outliers in the data mostly has a significant effect on the mean and standard deviation and thus affects the distribution of the variable.\n",
    "Due to the presence of outliers in the data, bulk of the data in the loan amount is at the left and the right tail is longer. This is called right skewness. One way to remove is by removing data points more than 90th percentile and less than 10th percentile.\n",
    "---"
   ]
  },
  {
   "cell_type": "code",
   "execution_count": 82,
   "id": "142568b5",
   "metadata": {},
   "outputs": [
    {
     "name": "stdout",
     "output_type": "stream",
     "text": [
      "10th percentile: \n",
      "72.30000000000001\n",
      "90th percentile: \n",
      "229.4000000000001\n"
     ]
    }
   ],
   "source": [
    "print(\"10th percentile: \")\n",
    "print(data['LoanAmount'].quantile(0.10))\n",
    "print(\"90th percentile: \")\n",
    "print(data['LoanAmount'].quantile(0.90))"
   ]
  },
  {
   "cell_type": "markdown",
   "id": "1f9209ba",
   "metadata": {},
   "source": [
    "- From above percentiles (10 & 90) we can remove data points those are out of this range but there may not ourliers under 10th percentile.\n",
    "- So lets remove outliers those are greater than 90th percentile and plot a boxplot so we can see if there are any outliers less than 10th percentile."
   ]
  },
  {
   "cell_type": "code",
   "execution_count": 83,
   "id": "4e1e1b28",
   "metadata": {},
   "outputs": [
    {
     "name": "stdout",
     "output_type": "stream",
     "text": [
      "After removing outlires > 90th precentiles:\n",
      "Detecting Outliers:\n",
      "\n"
     ]
    },
    {
     "data": {
      "image/png": "[encoded data removed]",
      "text/plain": [
       "<Figure size 864x576 with 1 Axes>"
      ]
     },
     "metadata": {},
     "output_type": "display_data"
    }
   ],
   "source": [
    "data['LoanAmount']=np.where(data['LoanAmount']>229.0,229.0,data['LoanAmount'])\n",
    "\n",
    "def box_plot(df):\n",
    "    print(\"Detecting Outliers:\\n\")\n",
    "    plt.figure(figsize=(12,8))\n",
    "    plt.boxplot(df,vert=False)\n",
    "    plt.title(\"Detecting outliers\")\n",
    "    plt.show()\n",
    "print(\"After removing outlires > 90th precentiles:\")\n",
    "box_plot(data['LoanAmount'])"
   ]
  },
  {
   "cell_type": "code",
   "execution_count": 84,
   "id": "ce4661d1",
   "metadata": {},
   "outputs": [
    {
     "data": {
      "text/plain": [
       "<AxesSubplot:>"
      ]
     },
     "execution_count": 84,
     "metadata": {},
     "output_type": "execute_result"
    },
    {
     "data": {
      "image/png": "[encoded data removed]",
      "text/plain": [
       "<Figure size 432x288 with 1 Axes>"
      ]
     },
     "metadata": {},
     "output_type": "display_data"
    }
   ],
   "source": [
    "data['LoanAmount'].hist(bins=30,color='purple',alpha=0.3)"
   ]
  },
  {
   "cell_type": "markdown",
   "id": "628a06ea",
   "metadata": {},
   "source": [
    "---\n",
    "### After removing outliers (i.e. datapoints greater than 90th percentile) it looks better and there is no such extreme points.\n",
    "---"
   ]
  },
  {
   "cell_type": "code",
   "execution_count": 85,
   "id": "083c64bd",
   "metadata": {},
   "outputs": [
    {
     "name": "stdout",
     "output_type": "stream",
     "text": [
      "10th percentile: \n",
      "77.6\n",
      "90th percentile: \n",
      "194.00000000000017\n"
     ]
    }
   ],
   "source": [
    "# Similar for test dataset\n",
    "print(\"10th percentile: \")\n",
    "print(test_data['LoanAmount'].quantile(0.10))\n",
    "print(\"90th percentile: \")\n",
    "print(test_data['LoanAmount'].quantile(0.90))"
   ]
  },
  {
   "cell_type": "code",
   "execution_count": 86,
   "id": "7c176b1a",
   "metadata": {},
   "outputs": [
    {
     "name": "stdout",
     "output_type": "stream",
     "text": [
      "After removing outliers >90th percentile: :\n",
      "Detecting Outliers:\n",
      "\n"
     ]
    },
    {
     "data": {
      "image/png": "[encoded data removed]",
      "text/plain": [
       "<Figure size 864x576 with 1 Axes>"
      ]
     },
     "metadata": {},
     "output_type": "display_data"
    }
   ],
   "source": [
    "test_data['LoanAmount'] = np.where(test_data['LoanAmount']>194.0, 194.0, test_data['LoanAmount'])\n",
    "\n",
    "print(\"After removing outliers >90th percentile: :\")\n",
    "box_plot(test_data['LoanAmount'])"
   ]
  },
  {
   "cell_type": "code",
   "execution_count": 87,
   "id": "bce95e7d",
   "metadata": {},
   "outputs": [
    {
     "data": {
      "text/plain": [
       "<AxesSubplot:>"
      ]
     },
     "execution_count": 87,
     "metadata": {},
     "output_type": "execute_result"
    },
    {
     "data": {
      "image/png": "[encoded data removed]",
      "text/plain": [
       "<Figure size 432x288 with 1 Axes>"
      ]
     },
     "metadata": {},
     "output_type": "display_data"
    }
   ],
   "source": [
    "test_data['LoanAmount'].hist(bins=30,color='blue',alpha=0.3)"
   ]
  },
  {
   "cell_type": "markdown",
   "id": "a6df8532",
   "metadata": {},
   "source": [
    "# Data Preprocessing"
   ]
  },
  {
   "cell_type": "markdown",
   "id": "e74288ef",
   "metadata": {},
   "source": [
    "#### Since Loan_ID does not have any significance while the predicting the Loan Approval status, we will drop the Loan_ID from both the train and test datasets."
   ]
  },
  {
   "cell_type": "code",
   "execution_count": 88,
   "id": "0929ee21",
   "metadata": {},
   "outputs": [],
   "source": [
    "train = data.drop('Loan_ID',axis=1)\n",
    "test = test_data.drop('Loan_ID',axis=1)"
   ]
  },
  {
   "cell_type": "markdown",
   "id": "bc1b4d80",
   "metadata": {},
   "source": [
    "## Encoding the Categorical Variables\n",
    "\n",
    "#### Since our train data contains the categorical features - Gender, Married, Education, Self_Employed and Property_Area which have non-numeric data so we need to convert these features into the numeric before further processing as the machine learning algorithm works with numeric data."
   ]
  },
  {
   "cell_type": "code",
   "execution_count": 89,
   "id": "b297ba2a",
   "metadata": {},
   "outputs": [
    {
     "data": {
      "text/html": [
       "<div>\n",
       "<style scoped>\n",
       "    .dataframe tbody tr th:only-of-type {\n",
       "        vertical-align: middle;\n",
       "    }\n",
       "\n",
       "    .dataframe tbody tr th {\n",
       "        vertical-align: top;\n",
       "    }\n",
       "\n",
       "    .dataframe thead th {\n",
       "        text-align: right;\n",
       "    }\n",
       "</style>\n",
       "<table border=\"1\" class=\"dataframe\">\n",
       "  <thead>\n",
       "    <tr style=\"text-align: right;\">\n",
       "      <th></th>\n",
       "      <th>Gender</th>\n",
       "      <th>Married</th>\n",
       "      <th>Dependents</th>\n",
       "      <th>Education</th>\n",
       "      <th>Self_Employed</th>\n",
       "      <th>ApplicantIncome</th>\n",
       "      <th>CoapplicantIncome</th>\n",
       "      <th>LoanAmount</th>\n",
       "      <th>Loan_Amount_Term</th>\n",
       "      <th>Credit_History</th>\n",
       "      <th>Property_Area</th>\n",
       "      <th>Loan_Status</th>\n",
       "    </tr>\n",
       "  </thead>\n",
       "  <tbody>\n",
       "    <tr>\n",
       "      <th>0</th>\n",
       "      <td>Male</td>\n",
       "      <td>No</td>\n",
       "      <td>0</td>\n",
       "      <td>Graduate</td>\n",
       "      <td>No</td>\n",
       "      <td>5849</td>\n",
       "      <td>0.0</td>\n",
       "      <td>128.0</td>\n",
       "      <td>360.0</td>\n",
       "      <td>1.0</td>\n",
       "      <td>Urban</td>\n",
       "      <td>1</td>\n",
       "    </tr>\n",
       "    <tr>\n",
       "      <th>1</th>\n",
       "      <td>Male</td>\n",
       "      <td>Yes</td>\n",
       "      <td>1</td>\n",
       "      <td>Graduate</td>\n",
       "      <td>No</td>\n",
       "      <td>4583</td>\n",
       "      <td>1508.0</td>\n",
       "      <td>128.0</td>\n",
       "      <td>360.0</td>\n",
       "      <td>1.0</td>\n",
       "      <td>Rural</td>\n",
       "      <td>0</td>\n",
       "    </tr>\n",
       "    <tr>\n",
       "      <th>2</th>\n",
       "      <td>Male</td>\n",
       "      <td>Yes</td>\n",
       "      <td>0</td>\n",
       "      <td>Graduate</td>\n",
       "      <td>Yes</td>\n",
       "      <td>3000</td>\n",
       "      <td>0.0</td>\n",
       "      <td>66.0</td>\n",
       "      <td>360.0</td>\n",
       "      <td>1.0</td>\n",
       "      <td>Urban</td>\n",
       "      <td>1</td>\n",
       "    </tr>\n",
       "    <tr>\n",
       "      <th>3</th>\n",
       "      <td>Male</td>\n",
       "      <td>Yes</td>\n",
       "      <td>0</td>\n",
       "      <td>Not Graduate</td>\n",
       "      <td>No</td>\n",
       "      <td>2583</td>\n",
       "      <td>2358.0</td>\n",
       "      <td>120.0</td>\n",
       "      <td>360.0</td>\n",
       "      <td>1.0</td>\n",
       "      <td>Urban</td>\n",
       "      <td>1</td>\n",
       "    </tr>\n",
       "    <tr>\n",
       "      <th>4</th>\n",
       "      <td>Male</td>\n",
       "      <td>No</td>\n",
       "      <td>0</td>\n",
       "      <td>Graduate</td>\n",
       "      <td>No</td>\n",
       "      <td>6000</td>\n",
       "      <td>0.0</td>\n",
       "      <td>141.0</td>\n",
       "      <td>360.0</td>\n",
       "      <td>1.0</td>\n",
       "      <td>Urban</td>\n",
       "      <td>1</td>\n",
       "    </tr>\n",
       "  </tbody>\n",
       "</table>\n",
       "</div>"
      ],
      "text/plain": [
       "  Gender Married Dependents     Education Self_Employed  ApplicantIncome  \\\n",
       "0   Male      No          0      Graduate            No             5849   \n",
       "1   Male     Yes          1      Graduate            No             4583   \n",
       "2   Male     Yes          0      Graduate           Yes             3000   \n",
       "3   Male     Yes          0  Not Graduate            No             2583   \n",
       "4   Male      No          0      Graduate            No             6000   \n",
       "\n",
       "   CoapplicantIncome  LoanAmount  Loan_Amount_Term  Credit_History  \\\n",
       "0                0.0       128.0             360.0             1.0   \n",
       "1             1508.0       128.0             360.0             1.0   \n",
       "2                0.0        66.0             360.0             1.0   \n",
       "3             2358.0       120.0             360.0             1.0   \n",
       "4                0.0       141.0             360.0             1.0   \n",
       "\n",
       "  Property_Area  Loan_Status  \n",
       "0         Urban            1  \n",
       "1         Rural            0  \n",
       "2         Urban            1  \n",
       "3         Urban            1  \n",
       "4         Urban            1  "
      ]
     },
     "execution_count": 89,
     "metadata": {},
     "output_type": "execute_result"
    }
   ],
   "source": [
    "train.head()"
   ]
  },
  {
   "cell_type": "code",
   "execution_count": 90,
   "id": "7ec8f104",
   "metadata": {},
   "outputs": [
    {
     "name": "stdout",
     "output_type": "stream",
     "text": [
      "Gender               0\n",
      "Married              0\n",
      "Dependents           0\n",
      "Education            0\n",
      "Self_Employed        0\n",
      "ApplicantIncome      0\n",
      "CoapplicantIncome    0\n",
      "LoanAmount           0\n",
      "Loan_Amount_Term     0\n",
      "Credit_History       0\n",
      "Property_Area        0\n",
      "Loan_Status          0\n",
      "dtype: int64\n",
      "------------------------------------------------------------\n",
      "Gender                object\n",
      "Married               object\n",
      "Dependents            object\n",
      "Education             object\n",
      "Self_Employed         object\n",
      "ApplicantIncome        int64\n",
      "CoapplicantIncome    float64\n",
      "LoanAmount           float64\n",
      "Loan_Amount_Term     float64\n",
      "Credit_History       float64\n",
      "Property_Area         object\n",
      "Loan_Status            int64\n",
      "dtype: object\n"
     ]
    }
   ],
   "source": [
    "print(train.isnull().sum())\n",
    "print(\"-\"*60)\n",
    "print(train.dtypes)"
   ]
  },
  {
   "cell_type": "code",
   "execution_count": 91,
   "id": "ef3e12fc",
   "metadata": {},
   "outputs": [],
   "source": [
    "# Gender\n",
    "train['Gender'] = train['Gender'].map({\"Male\":1, \"Female\":0})\n",
    "test['Gender'] = test['Gender'].map({\"Male\":1, \"Female\":0})\n",
    "# Marrital Status\n",
    "train['Married'] = train['Married'].map({'Yes':1, 'No':0})\n",
    "test['Married'] = test['Married'].map({'Yes':1, 'No':0})\n",
    "# Dependents\n",
    "train['Dependents'] = train['Dependents'].map({'0':0,'1':1,'2':2,'3+':3})\n",
    "test['Dependents'] = test['Dependents'].map({'0':0,'1':1,'2':2,'3+':3})\n",
    "# Education Status\n",
    "train['Education'] = train['Education'].map({'Graduate':1, 'Not Graduate':0})\n",
    "test['Education'] = test['Education'].map({'Graduate':1, 'Not Graduate':0})\n",
    "# Employment Status\n",
    "train['Self_Employed'] = train['Self_Employed'].map({'Yes':1, 'No':0})\n",
    "test['Self_Employed'] = test['Self_Employed'].map({'Yes':1, 'No':0})\n",
    "#Property Area\n",
    "train['Property_Area'] = train['Property_Area'].map({'Urban':2, 'Rural':0,'Semiurban':1})\n",
    "test['Property_Area'] = test['Property_Area'].map({'Urban':2, 'Rural':0,'Semiurban':1})"
   ]
  },
  {
   "cell_type": "code",
   "execution_count": 92,
   "id": "b2637565",
   "metadata": {},
   "outputs": [
    {
     "data": {
      "text/html": [
       "<div>\n",
       "<style scoped>\n",
       "    .dataframe tbody tr th:only-of-type {\n",
       "        vertical-align: middle;\n",
       "    }\n",
       "\n",
       "    .dataframe tbody tr th {\n",
       "        vertical-align: top;\n",
       "    }\n",
       "\n",
       "    .dataframe thead th {\n",
       "        text-align: right;\n",
       "    }\n",
       "</style>\n",
       "<table border=\"1\" class=\"dataframe\">\n",
       "  <thead>\n",
       "    <tr style=\"text-align: right;\">\n",
       "      <th></th>\n",
       "      <th>Gender</th>\n",
       "      <th>Married</th>\n",
       "      <th>Dependents</th>\n",
       "      <th>Education</th>\n",
       "      <th>Self_Employed</th>\n",
       "      <th>ApplicantIncome</th>\n",
       "      <th>CoapplicantIncome</th>\n",
       "      <th>LoanAmount</th>\n",
       "      <th>Loan_Amount_Term</th>\n",
       "      <th>Credit_History</th>\n",
       "      <th>Property_Area</th>\n",
       "      <th>Loan_Status</th>\n",
       "    </tr>\n",
       "  </thead>\n",
       "  <tbody>\n",
       "    <tr>\n",
       "      <th>0</th>\n",
       "      <td>1</td>\n",
       "      <td>0</td>\n",
       "      <td>0</td>\n",
       "      <td>1</td>\n",
       "      <td>0</td>\n",
       "      <td>5849</td>\n",
       "      <td>0.0</td>\n",
       "      <td>128.0</td>\n",
       "      <td>360.0</td>\n",
       "      <td>1.0</td>\n",
       "      <td>2</td>\n",
       "      <td>1</td>\n",
       "    </tr>\n",
       "    <tr>\n",
       "      <th>1</th>\n",
       "      <td>1</td>\n",
       "      <td>1</td>\n",
       "      <td>1</td>\n",
       "      <td>1</td>\n",
       "      <td>0</td>\n",
       "      <td>4583</td>\n",
       "      <td>1508.0</td>\n",
       "      <td>128.0</td>\n",
       "      <td>360.0</td>\n",
       "      <td>1.0</td>\n",
       "      <td>0</td>\n",
       "      <td>0</td>\n",
       "    </tr>\n",
       "    <tr>\n",
       "      <th>2</th>\n",
       "      <td>1</td>\n",
       "      <td>1</td>\n",
       "      <td>0</td>\n",
       "      <td>1</td>\n",
       "      <td>1</td>\n",
       "      <td>3000</td>\n",
       "      <td>0.0</td>\n",
       "      <td>66.0</td>\n",
       "      <td>360.0</td>\n",
       "      <td>1.0</td>\n",
       "      <td>2</td>\n",
       "      <td>1</td>\n",
       "    </tr>\n",
       "    <tr>\n",
       "      <th>3</th>\n",
       "      <td>1</td>\n",
       "      <td>1</td>\n",
       "      <td>0</td>\n",
       "      <td>0</td>\n",
       "      <td>0</td>\n",
       "      <td>2583</td>\n",
       "      <td>2358.0</td>\n",
       "      <td>120.0</td>\n",
       "      <td>360.0</td>\n",
       "      <td>1.0</td>\n",
       "      <td>2</td>\n",
       "      <td>1</td>\n",
       "    </tr>\n",
       "    <tr>\n",
       "      <th>4</th>\n",
       "      <td>1</td>\n",
       "      <td>0</td>\n",
       "      <td>0</td>\n",
       "      <td>1</td>\n",
       "      <td>0</td>\n",
       "      <td>6000</td>\n",
       "      <td>0.0</td>\n",
       "      <td>141.0</td>\n",
       "      <td>360.0</td>\n",
       "      <td>1.0</td>\n",
       "      <td>2</td>\n",
       "      <td>1</td>\n",
       "    </tr>\n",
       "  </tbody>\n",
       "</table>\n",
       "</div>"
      ],
      "text/plain": [
       "   Gender  Married  Dependents  Education  Self_Employed  ApplicantIncome  \\\n",
       "0       1        0           0          1              0             5849   \n",
       "1       1        1           1          1              0             4583   \n",
       "2       1        1           0          1              1             3000   \n",
       "3       1        1           0          0              0             2583   \n",
       "4       1        0           0          1              0             6000   \n",
       "\n",
       "   CoapplicantIncome  LoanAmount  Loan_Amount_Term  Credit_History  \\\n",
       "0                0.0       128.0             360.0             1.0   \n",
       "1             1508.0       128.0             360.0             1.0   \n",
       "2                0.0        66.0             360.0             1.0   \n",
       "3             2358.0       120.0             360.0             1.0   \n",
       "4                0.0       141.0             360.0             1.0   \n",
       "\n",
       "   Property_Area  Loan_Status  \n",
       "0              2            1  \n",
       "1              0            0  \n",
       "2              2            1  \n",
       "3              2            1  \n",
       "4              2            1  "
      ]
     },
     "execution_count": 92,
     "metadata": {},
     "output_type": "execute_result"
    }
   ],
   "source": [
    "train.head()"
   ]
  },
  {
   "cell_type": "code",
   "execution_count": 93,
   "id": "3a6b2aa6",
   "metadata": {},
   "outputs": [
    {
     "name": "stdout",
     "output_type": "stream",
     "text": [
      "Gender               0\n",
      "Married              0\n",
      "Dependents           0\n",
      "Education            0\n",
      "Self_Employed        0\n",
      "ApplicantIncome      0\n",
      "CoapplicantIncome    0\n",
      "LoanAmount           0\n",
      "Loan_Amount_Term     0\n",
      "Credit_History       0\n",
      "Property_Area        0\n",
      "Loan_Status          0\n",
      "dtype: int64\n",
      "------------------------------------------------------------\n",
      "Gender                 int64\n",
      "Married                int64\n",
      "Dependents             int64\n",
      "Education              int64\n",
      "Self_Employed          int64\n",
      "ApplicantIncome        int64\n",
      "CoapplicantIncome    float64\n",
      "LoanAmount           float64\n",
      "Loan_Amount_Term     float64\n",
      "Credit_History       float64\n",
      "Property_Area          int64\n",
      "Loan_Status            int64\n",
      "dtype: object\n",
      "------------------------------------------------------------\n",
      "0    360\n",
      "1    102\n",
      "2    101\n",
      "3     51\n",
      "Name: Dependents, dtype: int64\n"
     ]
    }
   ],
   "source": [
    "print(train.isnull().sum())\n",
    "print(\"-\"*60)\n",
    "print(train.dtypes)\n",
    "print(\"-\"*60)\n",
    "print(train['Dependents'].value_counts())"
   ]
  },
  {
   "cell_type": "code",
   "execution_count": 94,
   "id": "1705d2f1",
   "metadata": {},
   "outputs": [
    {
     "data": {
      "text/plain": [
       "Gender               0\n",
       "Married              0\n",
       "Dependents           0\n",
       "Education            0\n",
       "Self_Employed        0\n",
       "ApplicantIncome      0\n",
       "CoapplicantIncome    0\n",
       "LoanAmount           0\n",
       "Loan_Amount_Term     0\n",
       "Credit_History       0\n",
       "Property_Area        0\n",
       "Loan_Status          0\n",
       "dtype: int64"
      ]
     },
     "execution_count": 94,
     "metadata": {},
     "output_type": "execute_result"
    }
   ],
   "source": [
    "from sklearn.preprocessing import LabelEncoder\n",
    "# labelencoder is a technique to hanlding categorical values.it lables values bet 0 and 1\n",
    "le = LabelEncoder()\n",
    "train['Dependents'] = le.fit_transform(train['Dependents'])\n",
    "train.isnull().sum()"
   ]
  },
  {
   "cell_type": "code",
   "execution_count": 95,
   "id": "109155cf",
   "metadata": {},
   "outputs": [],
   "source": [
    "# Independent Variable\n",
    "X = train.drop('Loan_Status',axis=1)\n",
    "\n",
    "# Dependent Variable(target)\n",
    "y= train.Loan_Status"
   ]
  },
  {
   "cell_type": "code",
   "execution_count": 96,
   "id": "5c0b5549",
   "metadata": {},
   "outputs": [
    {
     "data": {
      "text/html": [
       "<div>\n",
       "<style scoped>\n",
       "    .dataframe tbody tr th:only-of-type {\n",
       "        vertical-align: middle;\n",
       "    }\n",
       "\n",
       "    .dataframe tbody tr th {\n",
       "        vertical-align: top;\n",
       "    }\n",
       "\n",
       "    .dataframe thead th {\n",
       "        text-align: right;\n",
       "    }\n",
       "</style>\n",
       "<table border=\"1\" class=\"dataframe\">\n",
       "  <thead>\n",
       "    <tr style=\"text-align: right;\">\n",
       "      <th></th>\n",
       "      <th>Gender</th>\n",
       "      <th>Married</th>\n",
       "      <th>Dependents</th>\n",
       "      <th>Education</th>\n",
       "      <th>Self_Employed</th>\n",
       "      <th>ApplicantIncome</th>\n",
       "      <th>CoapplicantIncome</th>\n",
       "      <th>LoanAmount</th>\n",
       "      <th>Loan_Amount_Term</th>\n",
       "      <th>Credit_History</th>\n",
       "      <th>Property_Area</th>\n",
       "    </tr>\n",
       "  </thead>\n",
       "  <tbody>\n",
       "    <tr>\n",
       "      <th>0</th>\n",
       "      <td>1</td>\n",
       "      <td>0</td>\n",
       "      <td>0</td>\n",
       "      <td>1</td>\n",
       "      <td>0</td>\n",
       "      <td>5849</td>\n",
       "      <td>0.0</td>\n",
       "      <td>128.0</td>\n",
       "      <td>360.0</td>\n",
       "      <td>1.0</td>\n",
       "      <td>2</td>\n",
       "    </tr>\n",
       "    <tr>\n",
       "      <th>1</th>\n",
       "      <td>1</td>\n",
       "      <td>1</td>\n",
       "      <td>1</td>\n",
       "      <td>1</td>\n",
       "      <td>0</td>\n",
       "      <td>4583</td>\n",
       "      <td>1508.0</td>\n",
       "      <td>128.0</td>\n",
       "      <td>360.0</td>\n",
       "      <td>1.0</td>\n",
       "      <td>0</td>\n",
       "    </tr>\n",
       "    <tr>\n",
       "      <th>2</th>\n",
       "      <td>1</td>\n",
       "      <td>1</td>\n",
       "      <td>0</td>\n",
       "      <td>1</td>\n",
       "      <td>1</td>\n",
       "      <td>3000</td>\n",
       "      <td>0.0</td>\n",
       "      <td>66.0</td>\n",
       "      <td>360.0</td>\n",
       "      <td>1.0</td>\n",
       "      <td>2</td>\n",
       "    </tr>\n",
       "    <tr>\n",
       "      <th>3</th>\n",
       "      <td>1</td>\n",
       "      <td>1</td>\n",
       "      <td>0</td>\n",
       "      <td>0</td>\n",
       "      <td>0</td>\n",
       "      <td>2583</td>\n",
       "      <td>2358.0</td>\n",
       "      <td>120.0</td>\n",
       "      <td>360.0</td>\n",
       "      <td>1.0</td>\n",
       "      <td>2</td>\n",
       "    </tr>\n",
       "    <tr>\n",
       "      <th>4</th>\n",
       "      <td>1</td>\n",
       "      <td>0</td>\n",
       "      <td>0</td>\n",
       "      <td>1</td>\n",
       "      <td>0</td>\n",
       "      <td>6000</td>\n",
       "      <td>0.0</td>\n",
       "      <td>141.0</td>\n",
       "      <td>360.0</td>\n",
       "      <td>1.0</td>\n",
       "      <td>2</td>\n",
       "    </tr>\n",
       "  </tbody>\n",
       "</table>\n",
       "</div>"
      ],
      "text/plain": [
       "   Gender  Married  Dependents  Education  Self_Employed  ApplicantIncome  \\\n",
       "0       1        0           0          1              0             5849   \n",
       "1       1        1           1          1              0             4583   \n",
       "2       1        1           0          1              1             3000   \n",
       "3       1        1           0          0              0             2583   \n",
       "4       1        0           0          1              0             6000   \n",
       "\n",
       "   CoapplicantIncome  LoanAmount  Loan_Amount_Term  Credit_History  \\\n",
       "0                0.0       128.0             360.0             1.0   \n",
       "1             1508.0       128.0             360.0             1.0   \n",
       "2                0.0        66.0             360.0             1.0   \n",
       "3             2358.0       120.0             360.0             1.0   \n",
       "4                0.0       141.0             360.0             1.0   \n",
       "\n",
       "   Property_Area  \n",
       "0              2  \n",
       "1              0  \n",
       "2              2  \n",
       "3              2  \n",
       "4              2  "
      ]
     },
     "execution_count": 96,
     "metadata": {},
     "output_type": "execute_result"
    }
   ],
   "source": [
    "X.head()"
   ]
  },
  {
   "cell_type": "code",
   "execution_count": 97,
   "id": "52e78829",
   "metadata": {},
   "outputs": [
    {
     "data": {
      "text/plain": [
       "0    1\n",
       "1    0\n",
       "2    1\n",
       "3    1\n",
       "4    1\n",
       "Name: Loan_Status, dtype: int64"
      ]
     },
     "execution_count": 97,
     "metadata": {},
     "output_type": "execute_result"
    }
   ],
   "source": [
    "y.head()"
   ]
  },
  {
   "cell_type": "markdown",
   "id": "2f449055",
   "metadata": {},
   "source": [
    "#### Splitting the dataseet into train and validate\n",
    "We will need to split our train dataset into training and validation sets. After training the model on the train part, we use the same model to make predictions for the validation part. The validation set is actually a part of the train dataset, which we will use to validate the prediction results with the actual results."
   ]
  },
  {
   "cell_type": "code",
   "execution_count": 98,
   "id": "54a461ff",
   "metadata": {},
   "outputs": [],
   "source": [
    "from sklearn.model_selection import train_test_split\n",
    "X_train,X_test,y_train,y_test=train_test_split(X,y,test_size=0.25,random_state=0)"
   ]
  },
  {
   "cell_type": "markdown",
   "id": "152b591a",
   "metadata": {},
   "source": [
    "- X_train - This includes your all independent variables,these will be used to train the model.\n",
    "- X_test - This is remaining 40% portion of the independent variables from the data which will not be used in the training phase and will be used to make predictions to test the accuracy of the model.\n",
    "-  y_train - This is your dependent variable which needs to be predicted by this model.\n",
    "- y_test- these labels will be used to test the accuracy between actual and predicted categories."
   ]
  },
  {
   "cell_type": "code",
   "execution_count": 99,
   "id": "fe1748de",
   "metadata": {},
   "outputs": [
    {
     "data": {
      "text/plain": [
       "((460, 11), (154, 11), (460,), (154,))"
      ]
     },
     "execution_count": 99,
     "metadata": {},
     "output_type": "execute_result"
    }
   ],
   "source": [
    "X_train.shape,X_test.shape,y_train.shape,y_test.shape"
   ]
  },
  {
   "cell_type": "code",
   "execution_count": 100,
   "id": "2c632d4c",
   "metadata": {},
   "outputs": [],
   "source": [
    "#!pip install xgboost\n",
    "#!pip install lightgbm"
   ]
  },
  {
   "cell_type": "markdown",
   "id": "78987e69",
   "metadata": {},
   "source": [
    "# Model Building\n",
    "Building model with different classification Machine Learning algorithms"
   ]
  },
  {
   "cell_type": "code",
   "execution_count": 101,
   "id": "ea1e75aa",
   "metadata": {},
   "outputs": [],
   "source": [
    "from sklearn.linear_model import LogisticRegression\n",
    "from sklearn.svm import SVC\n",
    "from sklearn.neighbors import KNeighborsClassifier\n",
    "from sklearn.tree import DecisionTreeClassifier\n",
    "from sklearn.ensemble import RandomForestClassifier\n",
    "from sklearn.ensemble import AdaBoostClassifier\n",
    "from sklearn.linear_model import SGDClassifier\n",
    "from xgboost import XGBClassifier\n",
    "import xgboost\n",
    "xgboost.set_config(verbosity=0) # to avoid XGB warning\n",
    "from lightgbm import LGBMClassifier"
   ]
  },
  {
   "cell_type": "code",
   "execution_count": 102,
   "id": "6476a3db",
   "metadata": {},
   "outputs": [],
   "source": [
    "# creating dictionary of all classifier \n",
    "classifiers = {\n",
    "    'LogisticRegression': LogisticRegression(),\n",
    "    'SUpport Vector Classifier': SVC(),\n",
    "    'KNeighborsClassifier': KNeighborsClassifier(),\n",
    "    'DecisionTreeClassifier': DecisionTreeClassifier(),\n",
    "    'RandomForestClassifier': RandomForestClassifier(),\n",
    "    'AdaBoostClassifier': AdaBoostClassifier(),\n",
    "    'SGDClassifier': SGDClassifier(),\n",
    "    'XGBClassifier': XGBClassifier(),\n",
    "    'LGBMClassifier': LGBMClassifier()\n",
    "}"
   ]
  },
  {
   "cell_type": "code",
   "execution_count": 103,
   "id": "074c3669",
   "metadata": {},
   "outputs": [
    {
     "name": "stdout",
     "output_type": "stream",
     "text": [
      "\n",
      "Classifiers:  LogisticRegression Has a training score of 80.0 % accuracy score\n",
      "\n",
      "Classifiers:  SVC Has a training score of 67.0 % accuracy score\n",
      "\n",
      "Classifiers:  KNeighborsClassifier Has a training score of 65.0 % accuracy score\n",
      "\n",
      "Classifiers:  DecisionTreeClassifier Has a training score of 69.0 % accuracy score\n",
      "\n",
      "Classifiers:  RandomForestClassifier Has a training score of 78.0 % accuracy score\n",
      "\n",
      "Classifiers:  AdaBoostClassifier Has a training score of 74.0 % accuracy score\n",
      "\n",
      "Classifiers:  SGDClassifier Has a training score of 56.99999999999999 % accuracy score\n",
      "\n",
      "Classifiers:  XGBClassifier Has a training score of 75.0 % accuracy score\n",
      "\n",
      "Classifiers:  LGBMClassifier Has a training score of 77.0 % accuracy score\n"
     ]
    }
   ],
   "source": [
    "from sklearn.model_selection import cross_val_score\n",
    "\n",
    "for key, classifier in classifiers.items():\n",
    "    classifier.fit(X_train, y_train)\n",
    "    training_score = cross_val_score(classifier, X_train, y_train, cv=5)\n",
    "    print(\"\\nClassifiers: \", classifier.__class__.__name__, \"Has a training score of\", round(training_score.mean(), 2) * 100, \"% accuracy score\")"
   ]
  },
  {
   "cell_type": "markdown",
   "id": "d9884b19",
   "metadata": {},
   "source": [
    "---\n",
    "* From above results we can see that most of the classifier perfomed quite well, but without hyperparameter tunning we cannot judge above results so quickly.\n",
    "---"
   ]
  },
  {
   "cell_type": "code",
   "execution_count": 104,
   "id": "8f77bf2f",
   "metadata": {},
   "outputs": [],
   "source": [
    "from scipy.stats import randint as sp_randint\n",
    "from scipy.stats import uniform as sp_uniform"
   ]
  },
  {
   "cell_type": "markdown",
   "id": "a34818cf",
   "metadata": {},
   "source": [
    "## Hyperparameter tunning"
   ]
  },
  {
   "cell_type": "code",
   "execution_count": 105,
   "id": "07783a0a",
   "metadata": {},
   "outputs": [
    {
     "name": "stdout",
     "output_type": "stream",
     "text": [
      "{'C': 10, 'penalty': 'l1', 'solver': 'liblinear'}\n"
     ]
    }
   ],
   "source": [
    "# using GridSearchCV to find the best parameters.\n",
    "from sklearn.model_selection import GridSearchCV\n",
    "\n",
    "log_reg_params = {\"penalty\":['l1','l2'], 'C':[0.001, 0.01, 0.1,1,10,100],'solver':['liblinear']}\n",
    "grid_log_reg = GridSearchCV(LogisticRegression(),log_reg_params)\n",
    "grid_log_reg.fit(X_train, y_train)\n",
    "\n",
    "# C is hyperparameter means lambda\n",
    "# Best parameters\n",
    "log_reg = grid_log_reg.best_params_\n",
    "\n",
    "print(log_reg)"
   ]
  },
  {
   "cell_type": "code",
   "execution_count": 106,
   "id": "2f8661bb",
   "metadata": {},
   "outputs": [
    {
     "name": "stdout",
     "output_type": "stream",
     "text": [
      "{'algorithm': 'auto', 'n_neighbors': 5}\n"
     ]
    }
   ],
   "source": [
    "# KNN\n",
    "knn_params = {\"n_neighbors\":[1,3,5], 'algorithm':['auto']}\n",
    "grid_knn = GridSearchCV(KNeighborsClassifier(),knn_params)\n",
    "grid_knn.fit(X_train, y_train)\n",
    "knn = grid_knn.best_params_\n",
    "print(knn)"
   ]
  },
  {
   "cell_type": "code",
   "execution_count": 107,
   "id": "02bdb740",
   "metadata": {},
   "outputs": [
    {
     "name": "stdout",
     "output_type": "stream",
     "text": [
      "{'C': 0.5, 'kernel': 'rbf'}\n"
     ]
    }
   ],
   "source": [
    "# SVC\n",
    "svc_params = {'C':[0.5,1], 'kernel':['rbf','sigmoid']}\n",
    "grid_svc = GridSearchCV(SVC(), svc_params)\n",
    "grid_svc.fit(X_train, y_train)\n",
    "svc = grid_svc.best_params_\n",
    "print(svc)"
   ]
  },
  {
   "cell_type": "code",
   "execution_count": 108,
   "id": "5c526028",
   "metadata": {},
   "outputs": [
    {
     "name": "stdout",
     "output_type": "stream",
     "text": [
      "{'criterion': 'gini', 'max_depth': 2, 'min_samples_leaf': 5}\n"
     ]
    }
   ],
   "source": [
    "# Decision Tree\n",
    "tree_params = {'criterion':['gini','entropy'],\"max_depth\":[2,4,6],\"min_samples_leaf\":[5,7,9]}\n",
    "grid_tree = GridSearchCV(DecisionTreeClassifier(), tree_params)\n",
    "grid_tree.fit(X_train, y_train)\n",
    "dcTree = grid_tree.best_params_\n",
    "print(dcTree)"
   ]
  },
  {
   "cell_type": "code",
   "execution_count": 109,
   "id": "b4fa58c1",
   "metadata": {},
   "outputs": [
    {
     "name": "stdout",
     "output_type": "stream",
     "text": [
      "{'bootstrap': True, 'max_features': 'auto', 'min_samples_leaf': 2, 'n_estimators': 200}\n"
     ]
    }
   ],
   "source": [
    "# RandomForest\n",
    "rf_params = {'n_estimators':[100,200,300],'max_features':['auto','sqrt'],\"min_samples_leaf\":[1,2,4],\"bootstrap\":[True, False]}\n",
    "grid_rf = GridSearchCV(RandomForestClassifier(),rf_params)\n",
    "grid_rf.fit(X_train, y_train)\n",
    "rf = grid_rf.best_params_\n",
    "print(rf)"
   ]
  },
  {
   "cell_type": "code",
   "execution_count": 110,
   "id": "4bf4ed57",
   "metadata": {},
   "outputs": [
    {
     "name": "stdout",
     "output_type": "stream",
     "text": [
      "{'algorithm': 'SAMME', 'learning_rate': 1, 'n_estimators': 50}\n"
     ]
    }
   ],
   "source": [
    "# AdaBoost Classifier\n",
    "adaboost_params = {'n_estimators':[50,100,200], 'learning_rate':[0.01,0.1,1], 'algorithm':['SAMME', 'SAMME.R']}\n",
    "grid_adaboost = GridSearchCV(AdaBoostClassifier(), adaboost_params)\n",
    "grid_adaboost.fit(X_train, y_train)\n",
    "adaboost = grid_adaboost.best_params_\n",
    "print(adaboost)"
   ]
  },
  {
   "cell_type": "code",
   "execution_count": 111,
   "id": "a2b8b0aa",
   "metadata": {},
   "outputs": [
    {
     "name": "stdout",
     "output_type": "stream",
     "text": [
      "{'loss': 'modified_huber', 'penalty': 'l2'}\n"
     ]
    }
   ],
   "source": [
    "# SGDClassifier\n",
    "sgd_params = {'loss':['log','modified_huber'],'penalty':['l2', 'l1', 'elasticnet']}\n",
    "grid_sgd = GridSearchCV(SGDClassifier(), sgd_params)\n",
    "grid_sgd.fit(X_train, y_train)\n",
    "sgd = grid_sgd.best_params_\n",
    "print(sgd)"
   ]
  },
  {
   "cell_type": "code",
   "execution_count": 112,
   "id": "fab2ccc8",
   "metadata": {},
   "outputs": [
    {
     "name": "stdout",
     "output_type": "stream",
     "text": [
      "GridSearchCV(estimator=XGBClassifier(base_score=None, booster=None,\n",
      "                                     callbacks=None, colsample_bylevel=None,\n",
      "                                     colsample_bynode=None,\n",
      "                                     colsample_bytree=None,\n",
      "                                     early_stopping_rounds=None,\n",
      "                                     enable_categorical=False, eval_metric=None,\n",
      "                                     gamma=None, gpu_id=None, grow_policy=None,\n",
      "                                     importance_type=None,\n",
      "                                     interaction_constraints=None,\n",
      "                                     learning_rate=None, max_bin=None,\n",
      "                                     max_cat_to_onehot=None,\n",
      "                                     max_delta_step=None, max_depth=None,\n",
      "                                     max_leaves=None, min_child_weight=None,\n",
      "                                     missing=nan, monotone_constraints=None,\n",
      "                                     n_estimators=100, n_jobs=None,\n",
      "                                     num_parallel_tree=None, predictor=None,\n",
      "                                     random_state=None, reg_alpha=None,\n",
      "                                     reg_lambda=None, ...),\n",
      "             param_grid={'max_depth': [4, 6, 8, 10],\n",
      "                         'min_child_weight': [2, 4, 10, 12],\n",
      "                         'n_estimators': [100, 200, 300]})\n"
     ]
    }
   ],
   "source": [
    "# XGBoost\n",
    "xgb_params = {'n_estimators' : [100, 200, 300],\n",
    "    'max_depth' : [4, 6, 8, 10],\n",
    "    'min_child_weight' : [2,4,10,12]}\n",
    "grid_xgb = GridSearchCV(XGBClassifier(), xgb_params)\n",
    "grid_xgb.fit(X_train, y_train)\n",
    "xgb = grid_xgb\n",
    "print(xgb)"
   ]
  },
  {
   "cell_type": "code",
   "execution_count": 113,
   "id": "7d74bfca",
   "metadata": {},
   "outputs": [
    {
     "data": {
      "text/plain": [
       "{'max_depth': 10, 'min_child_weight': 2, 'n_estimators': 100}"
      ]
     },
     "execution_count": 113,
     "metadata": {},
     "output_type": "execute_result"
    }
   ],
   "source": [
    "# best parameters for XGB\n",
    "xgb.best_params_"
   ]
  },
  {
   "cell_type": "code",
   "execution_count": 114,
   "id": "c0390044",
   "metadata": {},
   "outputs": [
    {
     "name": "stdout",
     "output_type": "stream",
     "text": [
      "{'min_child_samples': 100, 'min_child_weight': 0.001, 'num_leaves': 5, 'reg_alpha': 1, 'reg_lambda': 20}\n"
     ]
    }
   ],
   "source": [
    "# LightGBM\n",
    "lgbm_params = {'num_leaves': [5,10,20,50], \n",
    "             'min_child_samples': [100,200,500], \n",
    "             'min_child_weight': [0.001,0.01,0.1,1], \n",
    "             'reg_alpha': [1, 5, 10, 50, 100],\n",
    "             'reg_lambda': [1, 5, 10, 20, 50, 100]}\n",
    "grid_lgbm = GridSearchCV(LGBMClassifier(), lgbm_params)\n",
    "grid_lgbm.fit(X_train, y_train)\n",
    "lgbm = grid_lgbm.best_params_\n",
    "print(lgbm)"
   ]
  },
  {
   "cell_type": "code",
   "execution_count": 115,
   "id": "e0218b4f",
   "metadata": {},
   "outputs": [],
   "source": [
    "# To cget parameters\n",
    "#LGBMClassifier().get_params().keys()"
   ]
  },
  {
   "cell_type": "code",
   "execution_count": 116,
   "id": "5367defb",
   "metadata": {},
   "outputs": [
    {
     "name": "stdout",
     "output_type": "stream",
     "text": [
      "Classifiers after Tuning\n",
      "\n",
      "Logistic Regression:  80.0 % accuracy score\n",
      "\n",
      "Support Vector Machine:  68.0 % accuracy score\n",
      "\n",
      "KNeighbors:  65.0 % accuracy score\n",
      "\n",
      "Decision Tree:  80.0 % accuracy score\n",
      "\n",
      "Random Forest:  79.0 % accuracy score\n",
      "\n",
      "AdaBoost:  80.0 % accuracy score\n",
      "\n",
      "Stochastic Gradient Descent:  51.0 % accuracy score\n",
      "\n",
      "XGBoost:  77.0 % accuracy score\n",
      "\n",
      "Light Gradient Boosting Machine:  68.0 % accuracy score\n"
     ]
    }
   ],
   "source": [
    "# Overfitting Case\n",
    "# classifiers_params = {\n",
    "#     'LogisticRegression': LogisticRegression(C=10, penalty= 'l1', solver= 'liblinear'),\n",
    "#     'SUpport Vector Classifier': SVC(C= 0.5, kernel= 'rbf'),\n",
    "#     'KNeighborsClassifier': KNeighborsClassifier(algorithm= 'auto', n_neighbors= 5),\n",
    "#     'DecisionTreeClassifier': DecisionTreeClassifier(criterion= 'gini', max_depth= 2, min_samples_leaf= 5),\n",
    "#     'RandomForestClassifier': RandomForestClassifier(bootstrap= True, max_features= 'auto', min_samples_leaf= 4, n_estimators= 200)\n",
    "# }\n",
    "\n",
    "print(\"Classifiers after Tuning\\n\")\n",
    "# Logistic Regression\n",
    "log_reg =  LogisticRegression(C=10, penalty= 'l1', solver= 'liblinear')\n",
    "log_reg.fit(X_train, y_train)\n",
    "log_score = cross_val_score(log_reg, X_train, y_train,cv=5)\n",
    "print('Logistic Regression: ', round(log_score.mean(),2)*100, \"% accuracy score\")\n",
    "\n",
    "# Support Vector Machine\n",
    "svc = SVC(C= 0.5, kernel= 'rbf', probability=True)\n",
    "svc.fit(X_train, y_train)\n",
    "svc_score = cross_val_score(svc, X_train, y_train,cv=5)\n",
    "print(\"\\nSupport Vector Machine: \", round(svc_score.mean(),2)*100, \"% accuracy score\")\n",
    "\n",
    "# KNeighbors\n",
    "knn = KNeighborsClassifier(algorithm= 'auto', n_neighbors= 5)\n",
    "knn.fit(X_train, y_train)\n",
    "knn_score = cross_val_score(knn, X_train, y_train,cv=5)\n",
    "print(\"\\nKNeighbors: \", round(knn_score.mean(),2)*100, \"% accuracy score\")\n",
    "\n",
    "# Decision Tree\n",
    "dcTree = DecisionTreeClassifier(criterion= 'gini', max_depth= 2, min_samples_leaf= 5)\n",
    "dcTree.fit(X_train, y_train)\n",
    "dcTree_score = cross_val_score(dcTree, X_train, y_train, cv=5)\n",
    "print(\"\\nDecision Tree: \", round(dcTree_score.mean(),2)*100, \"% accuracy score\")\n",
    "\n",
    "# Random Forest\n",
    "rf = RandomForestClassifier(bootstrap= True, max_features= 'sqrt', min_samples_leaf= 2, n_estimators= 100)\n",
    "rf.fit(X_train, y_train)\n",
    "rf_score = cross_val_score(rf, X_train, y_train, cv=5)\n",
    "print(\"\\nRandom Forest: \",  round(rf_score.mean(),2)*100, \"% accuracy score\")\n",
    "\n",
    "# Adaboost \n",
    "ada = AdaBoostClassifier(algorithm='SAMME', learning_rate= 1, n_estimators= 50)\n",
    "ada.fit(X_train, y_train)\n",
    "ada_score = cross_val_score(ada, X_train, y_train, cv=5)\n",
    "print(\"\\nAdaBoost: \", round(ada_score.mean(),2)*100, \"% accuracy score\")\n",
    "\n",
    "# SGD\n",
    "sgd = SGDClassifier(loss= 'modified_huber', penalty= 'l2')\n",
    "sgd.fit(X_train, y_train)\n",
    "sgd_score = cross_val_score(sgd, X_train, y_train, cv=5)\n",
    "print(\"\\nStochastic Gradient Descent: \", round(sgd_score.mean(),2)*100, \"% accuracy score\")\n",
    "\n",
    "# XGBoost\n",
    "xgb = XGBClassifier(max_depth= 10, min_child_weight= 2, n_estimators= 100)\n",
    "xgb.fit(X_train, y_train)\n",
    "xgb_score = cross_val_score(xgb, X_train, y_train, cv=5)\n",
    "print(\"\\nXGBoost: \", round(xgb_score.mean(),2)*100, \"% accuracy score\")\n",
    "\n",
    "# Light Gradient Boosting Machine\n",
    "lgbm = LGBMClassifier(min_child_samples= 100, min_child_weight= 0.001, num_leaves=5, reg_alpha= 1, reg_lambda= 20)\n",
    "lgbm.fit(X_train, y_train)\n",
    "lgbm_score = cross_val_score(lgbm, X_train, y_train, cv=5)\n",
    "print(\"\\nLight Gradient Boosting Machine: \", round(lgbm_score.mean(),2)*100, \"% accuracy score\")"
   ]
  },
  {
   "cell_type": "markdown",
   "id": "9d994ede",
   "metadata": {},
   "source": [
    "### Accuracy scores before tuning || after tuning\n",
    "- LogisticRegression: 80.0 % || 80.%\n",
    "\n",
    "- SVC: 67.0 % || 68%\n",
    "\n",
    "- KNeighborsClassifier: 65.0 || 65.0%\n",
    "\n",
    "- DecisionTreeClassifier: 69.0 % || 80.0%\n",
    "\n",
    "- RandomForestClassifier: 78.0 % || after: 80.0%\n",
    "- AdaBoostClassifier: 74.0% || 80.0%\n",
    "- SGDClassifier: 53.0% || 67.0%\n",
    "- XGBClassifier: 75.0% || 77.0%\n",
    "- LGBMClassifier: 77.0% || 68.0%\n",
    "---\n",
    "*LogisticRegression* has same accuracy(80%) even after tunning. *DecisionTreeClassifier* improved by 11% after tunning, and *RandomForestClassifier* improved by only 2%, *AdaBoostClassifier* improved by 6%, *XGBClassifier* imrpoved by 2% There is not much improvement in *SVC*, *KNeighborsClassifier*. Still we cannot directly choose them so for a selection we should evaluate all of them and then we will compare the models and select the best one.\n",
    "\n",
    "---"
   ]
  },
  {
   "cell_type": "markdown",
   "id": "a44dffb1",
   "metadata": {},
   "source": [
    "# Model evaluation\n",
    "- Evaluation, comparison and selection"
   ]
  },
  {
   "cell_type": "code",
   "execution_count": 117,
   "id": "0faeff3b",
   "metadata": {},
   "outputs": [
    {
     "name": "stdout",
     "output_type": "stream",
     "text": [
      "ROC_AUC_SCORE of models on Train Set\n",
      "\n",
      "Logistic Regression:  77\n",
      "Support Vector Machine:  40\n",
      "KNeighbors:  76\n",
      "Decision Tree:  72\n",
      "Random Forest:  99\n",
      "Adaboost:  81\n",
      "SGD:  50\n",
      "XGB:  100\n",
      "LGBM:  70\n"
     ]
    },
    {
     "data": {
      "image/png": "[encoded data removed]",
      "text/plain": [
       "<Figure size 576x396 with 1 Axes>"
      ]
     },
     "metadata": {},
     "output_type": "display_data"
    }
   ],
   "source": [
    "# ROC CURVE and ROC-AUC score\n",
    "\n",
    "# On Train dataset\n",
    "\n",
    "from sklearn.metrics import roc_curve\n",
    "from sklearn.metrics import roc_auc_score\n",
    "\n",
    "# predict probabilities\n",
    "log_reg_proba = log_reg.predict_proba(X_train) \n",
    "svc_proba = svc.predict_proba(X_train)\n",
    "knn_proba = knn.predict_proba(X_train)\n",
    "dt_proba = dcTree.predict_proba(X_train)\n",
    "rf_proba = rf.predict_proba(X_train)\n",
    "ada_proba = ada.predict_proba(X_train)\n",
    "sgd_proba = sgd.predict_proba(X_train)\n",
    "xgb_proba = xgb.predict_proba(X_train)\n",
    "lgbm_proba = lgbm.predict_proba(X_train)\n",
    "\n",
    "# roc_auc_score\n",
    "log_reg_auc = round(roc_auc_score(y_train, log_reg_proba[:,1])*100)\n",
    "svc_auc = round(roc_auc_score(y_train,svc_proba[:,1])*100)\n",
    "knn_auc = round(roc_auc_score(y_train, knn_proba[:,1])*100)\n",
    "dt_auc =  round(roc_auc_score(y_train, dt_proba[:,1])*100)\n",
    "rf_auc = round(roc_auc_score(y_train, rf_proba[:,1])*100)\n",
    "ada_auc = round(roc_auc_score(y_train, ada_proba[:,1])*100)\n",
    "sgd_auc = round(roc_auc_score(y_train, sgd_proba[:,1])*100)\n",
    "xgb_auc = round(roc_auc_score(y_train, xgb_proba[:,1])*100)\n",
    "lgbm_auc = round(roc_auc_score(y_train, lgbm_proba[:,1])*100)\n",
    "\n",
    "print(\"ROC_AUC_SCORE of models on Train Set\\n\")\n",
    "print(\"Logistic Regression: \", log_reg_auc)\n",
    "print(\"Support Vector Machine: \", svc_auc)\n",
    "print(\"KNeighbors: \",knn_auc)\n",
    "print(\"Decision Tree: \",dt_auc)\n",
    "print(\"Random Forest: \",rf_auc)\n",
    "print(\"Adaboost: \", ada_auc)\n",
    "print(\"SGD: \", sgd_auc)\n",
    "print(\"XGB: \", xgb_auc)\n",
    "print(\"LGBM: \", lgbm_auc)\n",
    "\n",
    "\n",
    "# roc curve for models\n",
    "\n",
    "fpr1, tpr1, thresh1 = roc_curve(y_train, log_reg_proba[:,1],pos_label=1)\n",
    "fpr2, tpr2, thresh2 = roc_curve(y_train, svc_proba[:,1],pos_label=1)\n",
    "fpr3, tpr3, thresh3 = roc_curve(y_train, knn_proba[:,1],pos_label=1)\n",
    "fpr4, tpr4, thresh4 = roc_curve(y_train, dt_proba[:,1],pos_label=1)\n",
    "fpr5, tpr5, thresh5 = roc_curve(y_train, rf_proba[:,1],pos_label=1)\n",
    "fpr6, tpr6, thresh6 = roc_curve(y_train, ada_proba[:,1],pos_label=1)\n",
    "fpr7, tpr7, thresh7 = roc_curve(y_train, sgd_proba[:,1], pos_label=1)\n",
    "fpr8, tpr8, thresh8 = roc_curve(y_train, xgb_proba[:,1],pos_label=1) \n",
    "fpr9, tpr9, thresh9 = roc_curve(y_train, lgbm_proba[:,1],pos_label=1)\n",
    "   \n",
    "# roc curve for tpr = fpr \n",
    "random_probs = [0 for i in range(len(y_train))]\n",
    "p_fpr, p_tpr, _ = roc_curve(y_train, random_probs, pos_label=1)\n",
    "\n",
    "plt.style.use('seaborn')\n",
    "\n",
    "# plot roc curves\n",
    "plt.plot(fpr1, tpr1, linestyle='--',color='orange', label='Logistic Regression')\n",
    "plt.plot(fpr2, tpr2, linestyle='--',color='green', label='SVC')\n",
    "plt.plot(fpr3, tpr3, linestyle='--',color='yellow', label='KNN')\n",
    "plt.plot(fpr4, tpr4, linestyle='--',color='red', label='Decision Tree')\n",
    "plt.plot(fpr5, tpr5, linestyle='--',color='blue', label='Random Forest')\n",
    "plt.plot(fpr6, tpr6, linestyle='--',color='magenta', label='AdaBoost')\n",
    "plt.plot(fpr7, tpr7, linestyle='--',color='pink', label='SGD')\n",
    "plt.plot(fpr8, tpr8, linestyle='--',color='purple',label='XGBoost')\n",
    "plt.plot(fpr9, tpr9, linestyle='--',color='brown',label='LGBM')\n",
    "plt.plot(p_fpr, p_tpr, linestyle='--', color='black')\n",
    "# title\n",
    "plt.title('ROC curve on Train Set')\n",
    "# x label\n",
    "plt.xlabel('False Positive Rate')\n",
    "# y label\n",
    "plt.ylabel('True Positive rate')\n",
    "\n",
    "plt.legend(loc='best')\n",
    "# plt.savefig('ROC',dpi=300)\n",
    "plt.show()"
   ]
  },
  {
   "cell_type": "code",
   "execution_count": 118,
   "id": "f2a405b4",
   "metadata": {},
   "outputs": [
    {
     "name": "stdout",
     "output_type": "stream",
     "text": [
      "ROC_AUC_SCORE of models on Train Set\n",
      "\n",
      "Logistic Regression:  74\n",
      "KNeighbors:  51\n",
      "Decision Tree:  70\n",
      "Random Forest:  79\n",
      "Adaboost:  81\n",
      "XGB:  79\n",
      "LGBM:  57\n"
     ]
    },
    {
     "data": {
      "image/png": "[encoded data removed]",
      "text/plain": [
       "<Figure size 576x396 with 1 Axes>"
      ]
     },
     "metadata": {},
     "output_type": "display_data"
    }
   ],
   "source": [
    "# ROC CURVE and ROC-AUC score\n",
    "\n",
    "# On Test dataset\n",
    "\n",
    "# predict probabilities\n",
    "log_reg_proba_test = log_reg.predict_proba(X_test) \n",
    "knn_proba_test = knn.predict_proba(X_test)\n",
    "dt_proba_test = dcTree.predict_proba(X_test)\n",
    "rf_proba_test = rf.predict_proba(X_test)\n",
    "ada_proba_test = ada.predict_proba(X_test)\n",
    "xgb_proba_test = xgb.predict_proba(X_test)\n",
    "lgbm_proba_test = lgbm.predict_proba(X_test)\n",
    "\n",
    "# roc_auc_score\n",
    "log_reg_auc_test = round(roc_auc_score(y_test, log_reg_proba_test[:,1])*100)\n",
    "knn_auc_test = round(roc_auc_score(y_test, knn_proba_test[:,1])*100)\n",
    "dt_auc_test =  round(roc_auc_score(y_test, dt_proba_test[:,1])*100)\n",
    "rf_auc_test = round(roc_auc_score(y_test, rf_proba_test[:,1])*100)\n",
    "ada_auc_test = round(roc_auc_score(y_test, ada_proba_test[:,1])*100)\n",
    "xgb_auc_test = round(roc_auc_score(y_test, xgb_proba_test[:,1])*100)\n",
    "lgbm_auc_test = round(roc_auc_score(y_test, lgbm_proba_test[:,1])*100)\n",
    "\n",
    "print(\"ROC_AUC_SCORE of models on Train Set\\n\")\n",
    "print(\"Logistic Regression: \", log_reg_auc_test)\n",
    "print(\"KNeighbors: \",knn_auc_test)\n",
    "print(\"Decision Tree: \",dt_auc_test)\n",
    "print(\"Random Forest: \",rf_auc_test)\n",
    "print(\"Adaboost: \", ada_auc_test)\n",
    "print(\"XGB: \", xgb_auc_test)\n",
    "print(\"LGBM: \", lgbm_auc_test)\n",
    "\n",
    "\n",
    "# roc curve for models\n",
    "\n",
    "fpr1, tpr1, thresh1 = roc_curve(y_test, log_reg_proba_test[:,1],pos_label=1)\n",
    "fpr2, tpr2, thresh2 = roc_curve(y_test, knn_proba_test[:,1],pos_label=1)\n",
    "fpr3, tpr3, thresh3 = roc_curve(y_test, dt_proba_test[:,1],pos_label=1)\n",
    "fpr4, tpr4, thresh4 = roc_curve(y_test, rf_proba_test[:,1],pos_label=1)\n",
    "fpr5, tpr5, thresh5 = roc_curve(y_test, ada_proba_test[:,1],pos_label=1)\n",
    "fpr6, tpr6, thresh6 = roc_curve(y_test, xgb_proba_test[:,1],pos_label=1) \n",
    "fpr7, tpr7, thresh7 = roc_curve(y_test, lgbm_proba_test[:,1],pos_label=1)\n",
    "   \n",
    "# roc curve for tpr = fpr \n",
    "random_probs_test = [0 for i in range(len(y_test))]\n",
    "p_fpr, p_tpr, _ = roc_curve(y_test, random_probs_test, pos_label=1)\n",
    "\n",
    "plt.style.use('seaborn')\n",
    "\n",
    "# plot roc curves\n",
    "plt.plot(fpr1, tpr1, linestyle='--',color='orange', label='Logistic Regression')\n",
    "plt.plot(fpr2, tpr2, linestyle='--',color='green', label='KNN')\n",
    "plt.plot(fpr3, tpr3, linestyle='--',color='yellow', label='Decision Tree')\n",
    "plt.plot(fpr4, tpr4, linestyle='--',color='red', label='Random Forest')\n",
    "plt.plot(fpr5, tpr5, linestyle='--',color='blue', label='AdaBoost')\n",
    "plt.plot(fpr6, tpr6, linestyle='--',color='magenta', label='XGBoost')\n",
    "plt.plot(fpr7, tpr7, linestyle='--',color='pink', label='LGBM')\n",
    "plt.plot(p_fpr, p_tpr, linestyle='--', color='black')\n",
    "# title\n",
    "plt.title('ROC curve on Train Set')\n",
    "# x label\n",
    "plt.xlabel('False Positive Rate')\n",
    "# y label\n",
    "plt.ylabel('True Positive rate')\n",
    "\n",
    "plt.legend(loc='best')\n",
    "# plt.savefig('ROC',dpi=300)\n",
    "plt.show()"
   ]
  },
  {
   "cell_type": "markdown",
   "id": "9833d9dc",
   "metadata": {},
   "source": [
    "- Observation on test set: Very poor performance by *KNN*, it goes beyond the threshold. *LGBM and Decision Tree* not performed well. Where *RandomForest, AdaBoost, XGBoost, and Logistic Regression* are still in the game and leading equally. \n",
    "\n",
    "## Model Selection:\n",
    "---\n",
    "- Well, ROC_AUC curves heled us to eliminate bad models so now we will see *Classification Report and Confusion Matrix* between the top 2 models and then we will select the best model for further process.\n",
    "---"
   ]
  },
  {
   "cell_type": "code",
   "execution_count": 119,
   "id": "ffb4031c",
   "metadata": {},
   "outputs": [
    {
     "name": "stdout",
     "output_type": "stream",
     "text": [
      "Classification Report of Logisitic Regression: \n",
      "               precision    recall  f1-score   support\n",
      "\n",
      "           0       0.91      0.47      0.62        43\n",
      "           1       0.83      0.98      0.90       111\n",
      "\n",
      "    accuracy                           0.84       154\n",
      "   macro avg       0.87      0.72      0.76       154\n",
      "weighted avg       0.85      0.84      0.82       154\n",
      "\n",
      "----------------------------------------------------------------------\n",
      "Classification Report of Random Forest: \n",
      "               precision    recall  f1-score   support\n",
      "\n",
      "           0       0.80      0.47      0.59        43\n",
      "           1       0.82      0.95      0.88       111\n",
      "\n",
      "    accuracy                           0.82       154\n",
      "   macro avg       0.81      0.71      0.74       154\n",
      "weighted avg       0.82      0.82      0.80       154\n",
      "\n",
      "----------------------------------------------------------------------\n",
      "Classification Report of AdaBoost: \n",
      "               precision    recall  f1-score   support\n",
      "\n",
      "           0       0.90      0.44      0.59        43\n",
      "           1       0.82      0.98      0.89       111\n",
      "\n",
      "    accuracy                           0.83       154\n",
      "   macro avg       0.86      0.71      0.74       154\n",
      "weighted avg       0.84      0.83      0.81       154\n",
      "\n",
      "----------------------------------------------------------------------\n",
      "Classification Report of XGBoost: \n",
      "               precision    recall  f1-score   support\n",
      "\n",
      "           0       0.61      0.63      0.62        43\n",
      "           1       0.85      0.85      0.85       111\n",
      "\n",
      "    accuracy                           0.79       154\n",
      "   macro avg       0.73      0.74      0.74       154\n",
      "weighted avg       0.79      0.79      0.79       154\n",
      "\n"
     ]
    }
   ],
   "source": [
    "from sklearn.metrics import classification_report\n",
    "log_reg_preds = log_reg.predict(X_test)\n",
    "rf_preds = rf.predict(X_test)\n",
    "ada_preds = ada.predict(X_test)\n",
    "xgb_preds = xgb.predict(X_test)\n",
    "\n",
    "print(\"Classification Report of Logisitic Regression: \\n\", classification_report(y_test, log_reg_preds))\n",
    "print(\"-\"*70)\n",
    "print(\"Classification Report of Random Forest: \\n\", classification_report(y_test, rf_preds))\n",
    "print(\"-\"*70)\n",
    "print(\"Classification Report of AdaBoost: \\n\", classification_report(y_test, ada_preds))\n",
    "print(\"-\"*70)\n",
    "print(\"Classification Report of XGBoost: \\n\", classification_report(y_test, xgb_preds))"
   ]
  },
  {
   "cell_type": "markdown",
   "id": "fb8a0f86",
   "metadata": {},
   "source": [
    "- Observation: Precision of the classification reports that *RandomForest and Linear Regression* of both the models is very good at accuracy but recall is very pure in both reports. Our focus is on *Precision* than any other factor.\n",
    "\n",
    "\n",
    "- Why precision is important than recall? Precision is the ratio between the True Positives and all the Positives. For our problem statement, that would be the measure of applicants that we correctly identify having a Loan acceptance out of all the applicants actually having the acceptance. Where *recall* tells for the applicants who actually have an acceptance, how many we correctly identified as having loan acceptance. So aim is to choose the model with higher precision."
   ]
  },
  {
   "cell_type": "code",
   "execution_count": 120,
   "id": "150a6c2c",
   "metadata": {},
   "outputs": [
    {
     "data": {
      "image/png": "[encoded data removed]",
      "text/plain": [
       "<Figure size 720x576 with 1 Axes>"
      ]
     },
     "metadata": {},
     "output_type": "display_data"
    }
   ],
   "source": [
    "# precision-recall curve\n",
    "from sklearn.metrics import precision_recall_curve\n",
    "\n",
    "precision1, recall1, thresholds1 = precision_recall_curve(y_test, log_reg_preds)\n",
    "precision2, recall2, thresholds2 = precision_recall_curve(y_test, rf_preds)\n",
    "\n",
    "plt.figure(figsize=(10,8))\n",
    "plt.plot([0,1],[0.5,0.5],'k--')\n",
    "plt.plot(recall1, precision1, label='Logistic Regression')\n",
    "plt.xlabel('recall')\n",
    "plt.ylabel('precision')\n",
    "plt.title('Logistic Regression PRC curve')\n",
    "plt.show()"
   ]
  },
  {
   "cell_type": "code",
   "execution_count": 121,
   "id": "80808a73",
   "metadata": {},
   "outputs": [
    {
     "data": {
      "image/png": "[encoded data removed]",
      "text/plain": [
       "<Figure size 720x576 with 1 Axes>"
      ]
     },
     "metadata": {},
     "output_type": "display_data"
    }
   ],
   "source": [
    "plt.figure(figsize=(10,8))\n",
    "plt.plot([0,1],[0.5,0.5],'k--')\n",
    "plt.plot(recall2, precision2, label='Random Forest')\n",
    "plt.xlabel('recall')\n",
    "plt.ylabel('precision')\n",
    "plt.title('Random Forest PRC curve')\n",
    "plt.show()"
   ]
  },
  {
   "cell_type": "markdown",
   "id": "32a7af48",
   "metadata": {},
   "source": [
    "- Observation: precision-recall curves of both the classifiers looks simiilar so let's find confusion matrix."
   ]
  },
  {
   "cell_type": "code",
   "execution_count": 122,
   "id": "5c131944",
   "metadata": {},
   "outputs": [
    {
     "data": {
      "image/png": "[encoded data removed]",
      "text/plain": [
       "<Figure size 1440x720 with 2 Axes>"
      ]
     },
     "metadata": {},
     "output_type": "display_data"
    }
   ],
   "source": [
    "from sklearn.metrics import confusion_matrix\n",
    "# confusion matrix\n",
    "log_reg_cm = confusion_matrix(y_test, log_reg_preds)\n",
    "rf_cm = confusion_matrix(y_test, rf_preds)\n",
    "\n",
    "plt.figure(figsize=(20,10))\n",
    "plt.suptitle(\"Confusion Matrices \", fontsize=24)\n",
    "\n",
    "plt.subplot(1,2,1)\n",
    "plt.title(\"Logistic Regression\")\n",
    "sns.heatmap(log_reg_cm,cbar=False, cmap=\"Blues\", annot=True,annot_kws={'size':16},fmt='g')\n",
    "\n",
    "plt.subplot(1,2,2)\n",
    "plt.title(\"Random Forest\")\n",
    "sns.heatmap(rf_cm, cbar=False, cmap=\"Blues\",annot=True, annot_kws={'size':16},fmt='g')\n",
    "\n",
    "plt.show()"
   ]
  },
  {
   "cell_type": "markdown",
   "id": "aa96a45d",
   "metadata": {},
   "source": [
    "- Observation: *Logistic Regressions looks perfect than *RandomForest*"
   ]
  },
  {
   "cell_type": "code",
   "execution_count": 123,
   "id": "09f3e979",
   "metadata": {},
   "outputs": [
    {
     "name": "stdout",
     "output_type": "stream",
     "text": [
      "Logistic Regression's confusion matrix evaluation: \n"
     ]
    },
    {
     "data": {
      "text/html": [
       "<div>\n",
       "<style scoped>\n",
       "    .dataframe tbody tr th:only-of-type {\n",
       "        vertical-align: middle;\n",
       "    }\n",
       "\n",
       "    .dataframe tbody tr th {\n",
       "        vertical-align: top;\n",
       "    }\n",
       "\n",
       "    .dataframe thead th {\n",
       "        text-align: right;\n",
       "    }\n",
       "</style>\n",
       "<table border=\"1\" class=\"dataframe\">\n",
       "  <thead>\n",
       "    <tr style=\"text-align: right;\">\n",
       "      <th>Predicted</th>\n",
       "      <th>0</th>\n",
       "      <th>1</th>\n",
       "      <th>All</th>\n",
       "    </tr>\n",
       "    <tr>\n",
       "      <th>Actual</th>\n",
       "      <th></th>\n",
       "      <th></th>\n",
       "      <th></th>\n",
       "    </tr>\n",
       "  </thead>\n",
       "  <tbody>\n",
       "    <tr>\n",
       "      <th>0</th>\n",
       "      <td>20</td>\n",
       "      <td>23</td>\n",
       "      <td>43</td>\n",
       "    </tr>\n",
       "    <tr>\n",
       "      <th>1</th>\n",
       "      <td>2</td>\n",
       "      <td>109</td>\n",
       "      <td>111</td>\n",
       "    </tr>\n",
       "    <tr>\n",
       "      <th>All</th>\n",
       "      <td>22</td>\n",
       "      <td>132</td>\n",
       "      <td>154</td>\n",
       "    </tr>\n",
       "  </tbody>\n",
       "</table>\n",
       "</div>"
      ],
      "text/plain": [
       "Predicted   0    1  All\n",
       "Actual                 \n",
       "0          20   23   43\n",
       "1           2  109  111\n",
       "All        22  132  154"
      ]
     },
     "execution_count": 123,
     "metadata": {},
     "output_type": "execute_result"
    }
   ],
   "source": [
    "print(\"Logistic Regression's confusion matrix evaluation: \")\n",
    "pd.crosstab(y_test, log_reg_preds, rownames=['Actual'],colnames=['Predicted'], margins=True)"
   ]
  },
  {
   "cell_type": "markdown",
   "id": "548caa28",
   "metadata": {},
   "source": [
    "## Saving the best model"
   ]
  },
  {
   "cell_type": "markdown",
   "id": "7ee275fc",
   "metadata": {},
   "source": [
    "- Let's save both the model."
   ]
  },
  {
   "cell_type": "code",
   "execution_count": 126,
   "id": "da5c74db",
   "metadata": {},
   "outputs": [],
   "source": [
    "import pickle\n",
    "# Logistic Regression\n",
    "#file1 ='ML model/log_reg.pkl'\n",
    "pickle.dump(log_reg, open('log_reg.pkl','wb'))\n",
    "\n",
    "# Random Forest\n",
    "#file2 = 'ML model/rf.pkl'\n",
    "pickle.dump(rf, open('rf.pkl', 'wb'))"
   ]
  },
  {
   "cell_type": "code",
   "execution_count": 127,
   "id": "ad09a447",
   "metadata": {},
   "outputs": [
    {
     "name": "stdout",
     "output_type": "stream",
     "text": [
      "Logistic Regression: \n",
      "0.8376623376623377\n",
      "\n",
      "Random Forest: \n",
      "0.8181818181818182\n"
     ]
    }
   ],
   "source": [
    "# Testing the model\n",
    "\n",
    "model1 = open('log_reg.pkl','rb')\n",
    "model1_test = pickle.load(model1)\n",
    "\n",
    "model2 = open('rf.pkl','rb')\n",
    "model2_test = pickle.load(model2)\n",
    "\n",
    "log_reg_test = model1_test.score(X_test, y_test)\n",
    "print(\"Logistic Regression: \")\n",
    "print(log_reg_test)\n",
    "\n",
    "rf_test = model2_test.score(X_test, y_test)\n",
    "print(\"\\nRandom Forest: \")\n",
    "print(rf_test)"
   ]
  },
  {
   "cell_type": "markdown",
   "id": "30625bf1",
   "metadata": {},
   "source": [
    "---\n",
    "* Logistic Regression was performing slightly better than Random Forest.\n",
    "---\n",
    "\n",
    "\n",
    "### End of analytical, cleaning, model building and model evaluation parts. Second stage is *MLOPS* to create webapp for end to end users."
   ]
  },
  {
   "cell_type": "code",
   "execution_count": null,
   "id": "029441b8",
   "metadata": {},
   "outputs": [],
   "source": []
  }
 ],
 "metadata": {
  "kernelspec": {
   "display_name": "Python (myenv)",
   "language": "python",
   "name": "myenv"
  },
  "language_info": {
   "codemirror_mode": {
    "name": "ipython",
    "version": 3
   },
   "file_extension": ".py",
   "mimetype": "text/x-python",
   "name": "python",
   "nbconvert_exporter": "python",
   "pygments_lexer": "ipython3",
   "version": "3.8.8"
  }
 },
 "nbformat": 4,
 "nbformat_minor": 5
}
